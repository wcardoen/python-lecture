{
 "metadata": {
  "name": "",
  "signature": "sha256:26736c69a2b1f692a2801f4df1e77b3d942e3333602f80ee01b0a15143d83ec7"
 },
 "nbformat": 3,
 "nbformat_minor": 0,
 "worksheets": [
  {
   "cells": [
    {
     "cell_type": "heading",
     "level": 1,
     "metadata": {},
     "source": [
      "Data Types & Variables"
     ]
    },
    {
     "cell_type": "heading",
     "level": 2,
     "metadata": {},
     "source": [
      "Variables"
     ]
    },
    {
     "cell_type": "markdown",
     "metadata": {},
     "source": [
      "You can use:\n",
      "* any letter \n",
      "* special character \"_\"\n",
      "* any number (except to start the name)\n",
      "\n",
      "Variables names: <font color=\"red\"><b>case-sensitive</b></font><br>\n",
      "* starting w. double underscore: special meaning<br>\n",
      "* starting w. single underscore (private variables in classes)\n",
      "\n",
      "You can <font color=\"red\"><b>NOT</b></font> use the following reserved Python keywords: "
     ]
    },
    {
     "cell_type": "code",
     "collapsed": false,
     "input": [
      "import keyword\n",
      "print(keyword.kwlist)"
     ],
     "language": "python",
     "metadata": {},
     "outputs": [
      {
       "output_type": "stream",
       "stream": "stdout",
       "text": [
        "['and', 'as', 'assert', 'break', 'class', 'continue', 'def', 'del', 'elif', 'else', 'except', 'exec', 'finally', 'for', 'from', 'global', 'if', 'import', 'in', 'is', 'lambda', 'not', 'or', 'pass', 'print', 'raise', 'return', 'try', 'while', 'with', 'yield']\n"
       ]
      }
     ],
     "prompt_number": 1
    },
    {
     "cell_type": "heading",
     "level": 2,
     "metadata": {},
     "source": [
      "Simple Data Types"
     ]
    },
    {
     "cell_type": "markdown",
     "metadata": {},
     "source": [
      "* boolean: True/False\n",
      "* integer  \n",
      "* float \n",
      "* complex<br>\n",
      "All objects of the above types are <font color=\"red\"><b>immutable</b></font>"
     ]
    },
    {
     "cell_type": "heading",
     "level": 3,
     "metadata": {},
     "source": [
      "Examples"
     ]
    },
    {
     "cell_type": "code",
     "collapsed": false,
     "input": [
      "booleanvar = ( 5 > 0 )\n",
      "print(booleanvar)\n",
      "\n",
      "a_int = 5\n",
      "print(a_int)\n",
      "\n",
      "x_float = 3.14\n",
      "print(x_float)\n",
      "\n",
      "z_cmplx = 3.0 + 1.j\n",
      "print(z_cmplx)"
     ],
     "language": "python",
     "metadata": {},
     "outputs": [
      {
       "output_type": "stream",
       "stream": "stdout",
       "text": [
        "True\n",
        "5\n",
        "3.14\n",
        "(3+1j)\n"
       ]
      }
     ],
     "prompt_number": 2
    },
    {
     "cell_type": "heading",
     "level": 3,
     "metadata": {},
     "source": [
      "Are there limitations to integers and floats like in e.g. C?"
     ]
    },
    {
     "cell_type": "code",
     "collapsed": false,
     "input": [
      "googol=10**100\n",
      "verylong=10**(250**2)\n",
      "print(\"The variable 'googol' contains {0:d} numbers\".format(len(str(googol))))\n",
      "print(\"The variable 'verylong' contains {0:d} numbers\".format(len(str(verylong))))"
     ],
     "language": "python",
     "metadata": {},
     "outputs": [
      {
       "output_type": "stream",
       "stream": "stdout",
       "text": [
        "The variable 'googol' contains 101 numbers\n",
        "The variable 'verylong' contains 62501 numbers"
       ]
      },
      {
       "output_type": "stream",
       "stream": "stdout",
       "text": [
        "\n"
       ]
      }
     ],
     "prompt_number": 3
    },
    {
     "cell_type": "heading",
     "level": 3,
     "metadata": {},
     "source": [
      "How to check the type in Python?"
     ]
    },
    {
     "cell_type": "code",
     "collapsed": false,
     "input": [
      "print(type(booleanvar))\n",
      "print(type(a_int))\n",
      "print(type(x_float))\n",
      "print(type(z_cmplx))"
     ],
     "language": "python",
     "metadata": {},
     "outputs": [
      {
       "output_type": "stream",
       "stream": "stdout",
       "text": [
        "<type 'bool'>\n",
        "<type 'int'>\n",
        "<type 'float'>\n",
        "<type 'complex'>\n"
       ]
      }
     ],
     "prompt_number": 4
    },
    {
     "cell_type": "heading",
     "level": 3,
     "metadata": {},
     "source": [
      "Special variables et al."
     ]
    },
    {
     "cell_type": "code",
     "collapsed": false,
     "input": [
      "x=5\n",
      "print(__name__)\n",
      "print(x.__doc__)"
     ],
     "language": "python",
     "metadata": {},
     "outputs": [
      {
       "output_type": "stream",
       "stream": "stdout",
       "text": [
        "__main__\n",
        "int(x=0) -> int or long\n",
        "int(x, base=10) -> int or long\n",
        "\n",
        "Convert a number or string to an integer, or return 0 if no arguments\n",
        "are given.  If x is floating point, the conversion truncates towards zero.\n",
        "If x is outside the integer range, the function returns a long instead.\n",
        "\n",
        "If x is not a number or if base is given, then x must be a string or\n",
        "Unicode object representing an integer literal in the given base.  The\n",
        "literal can be preceded by '+' or '-' and be surrounded by whitespace.\n",
        "The base defaults to 10.  Valid bases are 0 and 2-36.  Base 0 means to\n",
        "interpret the base from the string as an integer literal.\n",
        ">>> int('0b100', base=0)\n",
        "4\n"
       ]
      }
     ],
     "prompt_number": 6
    },
    {
     "cell_type": "heading",
     "level": 2,
     "metadata": {},
     "source": [
      "Operators"
     ]
    },
    {
     "cell_type": "markdown",
     "metadata": {},
     "source": [
      "* math operators: + , -, / , // , * , **, % \n",
      "* bit operators: | , ~ , ^ , &  (see Truth Tables in Mathematical Logic)\n",
      "* comparaison operators: > , < , >= , <= , == , != , <>\n",
      "* logical operators: and or not\n",
      "* identity operator: is\n",
      "* id function"
     ]
    },
    {
     "cell_type": "heading",
     "level": 3,
     "metadata": {},
     "source": [
      "Examples"
     ]
    },
    {
     "cell_type": "code",
     "collapsed": false,
     "input": [
      "print(25*2)\n",
      "print(25**2)\n",
      "print(23 < 13)\n",
      "\n",
      "print(\"\\nTest A:\")\n",
      "a=10\n",
      "b=10\n",
      "print(\"a==b:{0}\".format(a==b))\n",
      "print(id(a))\n",
      "print(id(b))\n",
      "print(a is b)\n",
      "\n",
      "print(\"\\nTest B:\")\n",
      "b=11.\n",
      "print(a==b)\n",
      "print(id(a))\n",
      "print(id(b))\n",
      "print(a is b)\n",
      "\n",
      "z1 = 1.0 + 4.j\n",
      "z2 = 2.0 + 9.j\n",
      "print(z1+z2)"
     ],
     "language": "python",
     "metadata": {},
     "outputs": [
      {
       "output_type": "stream",
       "stream": "stdout",
       "text": [
        "50\n",
        "625\n",
        "False\n",
        "\n",
        "Test A:\n",
        "a==b:True\n",
        "10629312\n",
        "10629312\n",
        "True\n",
        "\n",
        "Test B:\n",
        "False\n",
        "10629312\n",
        "16713840\n",
        "False\n",
        "(3+13j)\n"
       ]
      }
     ],
     "prompt_number": 8
    },
    {
     "cell_type": "heading",
     "level": 3,
     "metadata": {},
     "source": [
      "Note on Floor Division (//):"
     ]
    },
    {
     "cell_type": "code",
     "collapsed": false,
     "input": [
      "ver=!python -V\n",
      "print(\"Version of python:\",ver)\n",
      "a=7.\n",
      "b=3\n",
      "print(\"  a/b={0}\".format(a/b))\n",
      "print(\"  a//b={0}\".format(a//b))"
     ],
     "language": "python",
     "metadata": {},
     "outputs": [
      {
       "output_type": "stream",
       "stream": "stdout",
       "text": [
        "('Version of python:', ['Python 2.7.7 :: Anaconda 2.0.1 (64-bit)'])\n",
        "  a/b=2.33333333333\n",
        "  a//b=2.0\n"
       ]
      }
     ],
     "prompt_number": 8
    },
    {
     "cell_type": "heading",
     "level": 3,
     "metadata": {},
     "source": [
      "Bit Operators\n"
     ]
    },
    {
     "cell_type": "markdown",
     "metadata": {},
     "source": [
      "Still to be done or to be skipped"
     ]
    },
    {
     "cell_type": "heading",
     "level": 2,
     "metadata": {},
     "source": [
      "Control Flows"
     ]
    },
    {
     "cell_type": "heading",
     "level": 3,
     "metadata": {},
     "source": [
      "A.if/else/elif (Conditional statements)"
     ]
    },
    {
     "cell_type": "code",
     "collapsed": false,
     "input": [
      "# Example 1:\n",
      "gender='X'\n",
      "if gender == 'M':\n",
      "    print(\"Person is of male gender\")\n",
      "elif gender == 'F':\n",
      "    print(\"Person is of female gender\")\n",
      "else:\n",
      "    print(\"Gender undefined\")"
     ],
     "language": "python",
     "metadata": {},
     "outputs": [
      {
       "output_type": "stream",
       "stream": "stdout",
       "text": [
        "Gender undefined\n"
       ]
      }
     ],
     "prompt_number": 9
    },
    {
     "cell_type": "heading",
     "level": 3,
     "metadata": {},
     "source": [
      "B.for loop"
     ]
    },
    {
     "cell_type": "markdown",
     "metadata": {},
     "source": [
      "There are 2 (related) constructs:\n",
      "* for i in range(start,end,step):\n",
      "      command\n",
      "* for item in array:\n",
      "      command  \n",
      "      \n",
      "Closely related: break, continue and else      "
     ]
    },
    {
     "cell_type": "heading",
     "level": 4,
     "metadata": {},
     "source": [
      "Examples"
     ]
    },
    {
     "cell_type": "code",
     "collapsed": false,
     "input": [
      "# Example 1:\n",
      "# ---------\n",
      "print(\"Slice of the numbers\")\n",
      "for i in range(2,13,5):\n",
      "    print(\"  {0}\".format(i))\n",
      "    \n",
      "fruit=['apples','bananas','cherries','pineapple','strawberries']\n",
      "print(\"Construct 1::\")\n",
      "for item in fruit:\n",
      "    print(\"  Fruit:\" + item)\n",
      "\n",
      "print(\"Construct 2::\")\n",
      "for i in range(len(fruit)):\n",
      "    print(\"  Fruit:\" + fruit[i])"
     ],
     "language": "python",
     "metadata": {},
     "outputs": [
      {
       "output_type": "stream",
       "stream": "stdout",
       "text": [
        "Slice of the numbers\n",
        "  2\n",
        "  7\n",
        "  12\n",
        "Construct 1::\n",
        "  Fruit:apples\n",
        "  Fruit:bananas\n",
        "  Fruit:cherries\n",
        "  Fruit:pineapple\n",
        "  Fruit:strawberries\n",
        "Construct 2::\n",
        "  Fruit:apples\n",
        "  Fruit:bananas\n",
        "  Fruit:cherries\n",
        "  Fruit:pineapple\n",
        "  Fruit:strawberries\n"
       ]
      }
     ],
     "prompt_number": 10
    },
    {
     "cell_type": "code",
     "collapsed": false,
     "input": [
      "# Example 2: break statement\n",
      "# break statement        \n",
      "import random\n",
      "arr = [random.randint(1,1000) for i in range(100)]\n",
      "print(\"Array of random numbers:\")\n",
      "print(arr)\n",
      "print(\"Retrieve ONLY first element from the array that is divisible by 7\")\n",
      "for i in arr:\n",
      "    if i%7 == 0:\n",
      "       print(\"  {0:3d} is divisible by 7 -> get out!\".format(i))\n",
      "       break\n",
      "    else:\n",
      "       print(\"  {0:3d} is NOT divisible by 7\".format(i))"
     ],
     "language": "python",
     "metadata": {},
     "outputs": [
      {
       "output_type": "stream",
       "stream": "stdout",
       "text": [
        "Array of random numbers:\n",
        "[929, 568, 467, 557, 600, 344, 208, 824, 706, 504, 51, 891, 537, 647, 376, 958, 106, 237, 583, 123, 280, 401, 745, 848, 610, 87, 558, 844, 862, 315, 349, 773, 370, 773, 477, 274, 195, 994, 974, 581, 625, 760, 214, 84, 376, 95, 133, 204, 795, 862, 199, 735, 700, 91, 633, 530, 157, 852, 351, 1000, 95, 223, 220, 138, 653, 256, 521, 752, 766, 190, 140, 138, 816, 159, 761, 272, 217, 293, 622, 744, 582, 318, 692, 202, 678, 148, 362, 420, 717, 884, 138, 365, 244, 193, 182, 889, 82, 89, 892, 788]\n",
        "Retrieve ONLY first element from the array that is divisible by 7\n",
        "  929 is NOT divisible by 7\n",
        "  568 is NOT divisible by 7\n",
        "  467 is NOT divisible by 7\n",
        "  557 is NOT divisible by 7\n",
        "  600 is NOT divisible by 7\n",
        "  344 is NOT divisible by 7\n",
        "  208 is NOT divisible by 7\n",
        "  824 is NOT divisible by 7\n",
        "  706 is NOT divisible by 7\n",
        "  504 is divisible by 7 -> get out!\n"
       ]
      }
     ],
     "prompt_number": 11
    },
    {
     "cell_type": "code",
     "collapsed": false,
     "input": [
      "# Example 3: continue statement\n",
      "# ---------\n",
      "print(\"Print only the ODD elements\")\n",
      "for i in arr:\n",
      "    if i%2 == 0:\n",
      "        continue\n",
      "    print(\"  {0:3d} is NOT even\".format(i))"
     ],
     "language": "python",
     "metadata": {},
     "outputs": [
      {
       "output_type": "stream",
       "stream": "stdout",
       "text": [
        "Print only the ODD elements\n",
        "  929 is NOT even\n",
        "  467 is NOT even\n",
        "  557 is NOT even\n",
        "   51 is NOT even\n",
        "  891 is NOT even\n",
        "  537 is NOT even\n",
        "  647 is NOT even\n",
        "  237 is NOT even\n",
        "  583 is NOT even\n",
        "  123 is NOT even\n",
        "  401 is NOT even\n",
        "  745 is NOT even\n",
        "   87 is NOT even\n",
        "  315 is NOT even\n",
        "  349 is NOT even\n",
        "  773 is NOT even\n",
        "  773 is NOT even\n",
        "  477 is NOT even\n",
        "  195 is NOT even\n",
        "  581 is NOT even\n",
        "  625 is NOT even\n",
        "   95 is NOT even\n",
        "  133 is NOT even\n",
        "  795 is NOT even\n",
        "  199 is NOT even\n",
        "  735 is NOT even\n",
        "   91 is NOT even\n",
        "  633 is NOT even\n",
        "  157 is NOT even\n",
        "  351 is NOT even\n",
        "   95 is NOT even\n",
        "  223 is NOT even\n",
        "  653 is NOT even\n",
        "  521 is NOT even\n",
        "  159 is NOT even\n",
        "  761 is NOT even\n",
        "  217 is NOT even\n",
        "  293 is NOT even\n",
        "  717 is NOT even\n",
        "  365 is NOT even\n",
        "  193 is NOT even\n",
        "  889 is NOT even\n",
        "   89 is NOT even\n"
       ]
      }
     ],
     "prompt_number": 12
    },
    {
     "cell_type": "code",
     "collapsed": false,
     "input": [
      "# Example 4:  (for loop and else)\n",
      "# ---------\n",
      "# \"Calculate\" the square of a large real number \n",
      "# We artificially set:\n",
      "#    # steps: VERY LOW\n",
      "#    # convergence: very tight \n",
      "# so that we leave the for loop unsuccessfully\n",
      "\n",
      "# Code to calculate the square root of a real number\n",
      "import math\n",
      "num=xold=751  # Determine the square root of this number\n",
      "CONV_THRESHOLD=1.0E-14\n",
      "MAX_NUM_ITER=8\n",
      "\n",
      "print(\"'Abortive' calculation the square root of {0} (Conv. Threshold:{1})\".format(num,CONV_THRESHOLD))\n",
      "it=0\n",
      "for i in range(MAX_NUM_ITER):\n",
      "    it += 1\n",
      "    xnew=0.5*(xold + num/xold)\n",
      "    print(\"  iter:{0:2d}  xnew={1:20.12f}\".format(it,xnew))\n",
      "    dx=math.fabs(xnew-xold)\n",
      "    if(dx < CONV_THRESHOLD):\n",
      "        print(\"  -> converged\")\n",
      "        break\n",
      "    else:\n",
      "        xold=xnew\n",
      "else:    # This is NOT part of an if-elif-else construct -> When the loop is exhausted -> go to else\n",
      "    print(\"The calculation did not converge in {0} steps\".format(MAX_NUM_ITER))"
     ],
     "language": "python",
     "metadata": {},
     "outputs": [
      {
       "output_type": "stream",
       "stream": "stdout",
       "text": [
        "'Abortive' calculation the square root of 751 (Conv. Threshold:1e-14)\n",
        "  iter: 1  xnew=    376.000000000000\n",
        "  iter: 2  xnew=    188.998670212766\n",
        "  iter: 3  xnew=     96.486121572009\n",
        "  iter: 4  xnew=     52.134812199390\n",
        "  iter: 5  xnew=     33.269887208937\n",
        "  iter: 6  xnew=     27.921426111663\n",
        "  iter: 7  xnew=     27.409166530174\n",
        "  iter: 8  xnew=     27.404379630169\n",
        "The calculation did not converge in 8 steps\n"
       ]
      }
     ],
     "prompt_number": 1
    },
    {
     "cell_type": "heading",
     "level": 3,
     "metadata": {},
     "source": [
      "C. While statement"
     ]
    },
    {
     "cell_type": "markdown",
     "metadata": {},
     "source": [
      "The while construct has the following syntax\n",
      "while(condition is true):\n",
      "    do something"
     ]
    },
    {
     "cell_type": "heading",
     "level": 4,
     "metadata": {},
     "source": [
      "Examples"
     ]
    },
    {
     "cell_type": "code",
     "collapsed": false,
     "input": [
      "# Code to calculate the square root of a real number\n",
      "import math\n",
      "num=xold=751  # Determine the square root of this number\n",
      "CONV_THRESHOLD=1.0E-10\n",
      "step=0\n",
      "converged=False\n",
      "while(not(converged)):\n",
      "    step += 1\n",
      "    xnew=0.5*(xold + num/xold)\n",
      "    print(\" step:{0:2d}  xnew={1:20.12f}\".format(step,xnew))\n",
      "    dx=math.fabs(xnew-xold)\n",
      "    if(dx < CONV_THRESHOLD):\n",
      "        converged=True\n",
      "        print(\"  -> converged\")\n",
      "    else:\n",
      "        xold=xnew"
     ],
     "language": "python",
     "metadata": {},
     "outputs": [
      {
       "output_type": "stream",
       "stream": "stdout",
       "text": [
        " step: 1  xnew=    376.000000000000\n",
        " step: 2  xnew=    188.998670212766\n",
        " step: 3  xnew=     96.486121572009\n",
        " step: 4  xnew=     52.134812199390\n",
        " step: 5  xnew=     33.269887208937\n",
        " step: 6  xnew=     27.921426111663\n",
        " step: 7  xnew=     27.409166530174\n",
        " step: 8  xnew=     27.404379630169\n",
        " step: 9  xnew=     27.404379212089\n",
        " step:10  xnew=     27.404379212089\n",
        "  -> converged\n"
       ]
      }
     ],
     "prompt_number": 14
    },
    {
     "cell_type": "heading",
     "level": 2,
     "metadata": {},
     "source": [
      "D. Pass statement"
     ]
    },
    {
     "cell_type": "markdown",
     "metadata": {},
     "source": [
      "The pass clause is used to express<br>\n",
      "\"do nothing\"/skip"
     ]
    },
    {
     "cell_type": "heading",
     "level": 3,
     "metadata": {},
     "source": [
      "Examples"
     ]
    },
    {
     "cell_type": "code",
     "collapsed": false,
     "input": [
      "for i in range(10):\n",
      "    if i==7:\n",
      "        pass\n",
      "    else:\n",
      "        print(i)"
     ],
     "language": "python",
     "metadata": {},
     "outputs": [
      {
       "output_type": "stream",
       "stream": "stdout",
       "text": [
        "0\n",
        "1\n",
        "2\n",
        "3\n",
        "4\n",
        "5\n",
        "6\n",
        "8\n",
        "9\n"
       ]
      }
     ],
     "prompt_number": 15
    },
    {
     "cell_type": "heading",
     "level": 2,
     "metadata": {},
     "source": [
      "Functions in Python (Part I)"
     ]
    },
    {
     "cell_type": "markdown",
     "metadata": {},
     "source": [
      "General lay-out of a function in Python\n",
      "* Function announced with the <font color=\"red\"><b>def</b></font> keyword\n",
      "* Followed by the function name\n",
      "* Followed by the argument list in parenthesis\n",
      "* <font color=\"green\"><b>Recommendation</b></font> :: use doc strings\n",
      "* Body of the function\n",
      "* return (value1,value2,...)\n",
      "* If there is no return statement then the function returns <font color=\"red\"><b>None</b></font>"
     ]
    },
    {
     "cell_type": "heading",
     "level": 3,
     "metadata": {},
     "source": [
      "Examples\n"
     ]
    },
    {
     "cell_type": "code",
     "collapsed": false,
     "input": [
      "# Example 1:\n",
      "# ---------\n",
      "def iseven(x):\n",
      "    \"\"\"\n",
      "    Function to find out if a number is even or odd\n",
      "    Catch the error if it pops up.\n",
      "    @x: number\n",
      "    @return (boolean)\n",
      "    \"\"\"\n",
      "    try:\n",
      "        return (x%2 == 0)\n",
      "    except TypeError:\n",
      "        print(\"     ERROR:'{0}' is NOT a number\".format(x))\n",
      "\n",
      "print(\"Test whether the following data points are even\")        \n",
      "x=[1,2,3,4,\"blabla\",5]\n",
      "for item in x:\n",
      "    print(\"  '{0}': {1}\".format(item,iseven(item)))\n",
      "print(\"Doc string result:\")    \n",
      "print(iseven.__doc__)  "
     ],
     "language": "python",
     "metadata": {},
     "outputs": [
      {
       "output_type": "stream",
       "stream": "stdout",
       "text": [
        "Test whether the following data points are even\n",
        "  '1': False\n",
        "  '2': True\n",
        "  '3': False\n",
        "  '4': True\n",
        "     ERROR:'blabla' is NOT a number\n",
        "  'blabla': None\n",
        "  '5': False\n",
        "Doc string result:\n",
        "\n",
        "    Function to find out if a number is even or odd\n",
        "    Catch the error if it pops up.\n",
        "    @x: number\n",
        "    @return (boolean)\n",
        "    \n"
       ]
      }
     ],
     "prompt_number": 16
    },
    {
     "cell_type": "code",
     "collapsed": false,
     "input": [
      "# Example 2:\n",
      "# ---------\n",
      "import math    \n",
      "def calc_norm(vec):\n",
      "    \"\"\"\n",
      "    Function to calculate the L2-norm of a (real) vector\n",
      "    @vec: vector\n",
      "    @return (L2Norm)\n",
      "    \"\"\"\n",
      "    res=0.0\n",
      "    for i in range(len(vec)): \n",
      "        res += vec[i]**2\n",
      "    return math.sqrt(res)\n",
      "\n",
      "v=[1.,3.,math.pi,5.,7.]\n",
      "print(\"Calculate the L2 norm of the following vector:\")\n",
      "print(\"  Vec:{0}\".format(v))\n",
      "print(\"  The L2-norm of the vector is {0:12.8f}\".format(calc_norm(v)))\n",
      "print(\"Doc string result:\")    \n",
      "print(calc_norm.__doc__) \n",
      "\n",
      "# Example 3: (Recursive problem)\n",
      "# ---------\n",
      "# Fundamental theorem of arithmetic:\n",
      "# Every integer is either a prime or can be written as a product of primes.\n",
      "def decomp(n,res):\n",
      "    \n",
      "    if(n==1):\n",
      "       return 1\n",
      "    else:\n",
      "       upBoundary=int(math.sqrt(n))+1\n",
      "       arr=[i for i in range(2,upBoundary)]\n",
      "       for num in arr:\n",
      "           if n%num==0:\n",
      "              decomp(num,res)\n",
      "              decomp(n/num,res)\n",
      "              return\n",
      "       print(\"n={0} is a prime\".format(n))\n",
      "       return res.append(n)\n",
      "\n",
      "print(\"Fundamental theorem of arithmetic\")\n",
      "n=raw_input(\"Give an integer:\")\n",
      "n=int(n)\n",
      "res=[]\n",
      "decomp(n,res)\n",
      "print(res)\n"
     ],
     "language": "python",
     "metadata": {},
     "outputs": [
      {
       "output_type": "stream",
       "stream": "stdout",
       "text": [
        "Calculate the L2 norm of the following vector:\n",
        "  Vec:[1.0, 3.0, 3.141592653589793, 5.0, 7.0]\n",
        "  The L2-norm of the vector is   9.68863274\n",
        "Doc string result:\n",
        "\n",
        "    Function to calculate the L2-norm of a (real) vector\n",
        "    @vec: vector\n",
        "    @return (L2Norm)\n",
        "    \n",
        "Fundamental theorem of arithmetic\n"
       ]
      },
      {
       "name": "stdout",
       "output_type": "stream",
       "stream": "stdout",
       "text": [
        "Give an integer:12345678\n"
       ]
      },
      {
       "output_type": "stream",
       "stream": "stdout",
       "text": [
        "n=2 is a prime\n",
        "n=3 is a prime\n",
        "n=3 is a prime\n",
        "n=47 is a prime\n",
        "n=14593 is a prime\n",
        "[2, 3, 3, 47, 14593]\n"
       ]
      }
     ],
     "prompt_number": 2
    },
    {
     "cell_type": "code",
     "collapsed": false,
     "input": [
      "# Example 4:\n",
      "# ---------\n",
      "def print_star(n):\n",
      "    \"\"\"\n",
      "    Function to print n lines with a start\n",
      "    \"\"\"\n",
      "    for i in range(n):\n",
      "        print(\"*\")\n",
      "\n",
      "print(\"Testing the None object\")\n",
      "ret=print_star(4)\n",
      "if ret is None:\n",
      "    print(\"The None object is returned\")\n",
      "else:\n",
      "    print(\"The None object is NOT returned\")\n"
     ],
     "language": "python",
     "metadata": {},
     "outputs": [
      {
       "output_type": "stream",
       "stream": "stdout",
       "text": [
        "Testing the None object\n",
        "*\n",
        "*\n",
        "*\n",
        "*\n",
        "The None object is returned\n"
       ]
      }
     ],
     "prompt_number": 6
    },
    {
     "cell_type": "heading",
     "level": 2,
     "metadata": {},
     "source": [
      "Modules"
     ]
    },
    {
     "cell_type": "markdown",
     "metadata": {},
     "source": [
      "What is a module?\n",
      "----------------\n",
      "A file with a bunch of Python statements and definitions.<br>\n",
      "All python <font color=\"red\"><b>modules</b></font> are ending on .py.<br>\n",
      "\n",
      "In order to make modules <font color=\"red\"><b>visible</b></font> in your current space, \n",
      "the content of these files has to be imported.<br>\n",
      "If you change a module and you want to see the changes, reload the module<br>\n",
      "In the examples below we will show how one can do this."
     ]
    },
    {
     "cell_type": "heading",
     "level": 3,
     "metadata": {},
     "source": [
      "Examples"
     ]
    },
    {
     "cell_type": "code",
     "collapsed": false,
     "input": [
      "# Assume we want to use the cos function from the math module\n",
      "import math\n",
      "print(\"The cosine of pi is:{0}\".format(math.cos(math.pi)))\n",
      "\n",
      "# Renaming namespace\n",
      "import math as m\n",
      "print(\"Euler's constant e has the following value:{0}\".format(m.e))\n",
      "\n",
      "# We can also proceed as follows (rather dangerous)\n",
      "from math import sin, pi\n",
      "print(\"The sine of pi/4 is:{0}\".format(sin(pi/4)))\n"
     ],
     "language": "python",
     "metadata": {},
     "outputs": [
      {
       "output_type": "stream",
       "stream": "stdout",
       "text": [
        "The cosine of pi is:-1.0\n",
        "Euler's constant e has the following value:2.71828182846\n",
        "The sine of pi/4 is:0.707106781187\n"
       ]
      }
     ],
     "prompt_number": 9
    },
    {
     "cell_type": "heading",
     "level": 3,
     "metadata": {},
     "source": [
      "A useful way to test your module"
     ]
    },
    {
     "cell_type": "code",
     "collapsed": false,
     "input": [
      "# The if __name__ == \"__main__\" construct\n",
      "# Test out in a shell the following:\n",
      "# CASE A:\n",
      "#   python\n",
      "#   import ex1\n",
      "#   dir()\n",
      "#   print ex1.fact.__doc__\n",
      "\n",
      "# CASE B:\n",
      "#   python ex1.py"
     ],
     "language": "python",
     "metadata": {},
     "outputs": []
    },
    {
     "cell_type": "heading",
     "level": 3,
     "metadata": {},
     "source": [
      "How to load a module from a \"non-standard\" directory in your environment?"
     ]
    },
    {
     "cell_type": "markdown",
     "metadata": {},
     "source": [
      "There are 2 options: \n",
      "* within the Python code -> modify the sys.path list\n",
      "* setting/modifying the PYTHONPATH variable"
     ]
    },
    {
     "cell_type": "code",
     "collapsed": false,
     "input": [
      "# Approach 1:\n",
      "import sys\n",
      "print(\"The python search path::\", sys.path)\n",
      "sys.path.append('./TestCode')\n",
      "print(\"The updated python search path::\", sys.path)\n",
      "import ex1\n",
      "ex1.fact(7)\n",
      "\n",
      "# Approach 2: (open a tty terminal to show)\n",
      "# export PYTHONPATH=/home/hadoop/Python/Slides/TestCode:$PYTHONPATH\n",
      "# import ex1\n",
      "# ex1.fact(7)"
     ],
     "language": "python",
     "metadata": {},
     "outputs": [
      {
       "output_type": "stream",
       "stream": "stdout",
       "text": [
        "('The python search path::', ['', '/software/pkg/anaconda/2.0.1/lib/python27.zip', '/software/pkg/anaconda/2.0.1/lib/python2.7', '/software/pkg/anaconda/2.0.1/lib/python2.7/plat-linux2', '/software/pkg/anaconda/2.0.1/lib/python2.7/lib-tk', '/software/pkg/anaconda/2.0.1/lib/python2.7/lib-old', '/software/pkg/anaconda/2.0.1/lib/python2.7/lib-dynload', '/software/pkg/anaconda/2.0.1/lib/python2.7/site-packages', '/software/pkg/anaconda/2.0.1/lib/python2.7/site-packages/PIL', '/software/pkg/anaconda/2.0.1/lib/python2.7/site-packages/runipy-0.1.0-py2.7.egg', '/software/pkg/anaconda/2.0.1/lib/python2.7/site-packages/setuptools-3.6-py2.7.egg', '/software/pkg/anaconda/2.0.1/lib/python2.7/site-packages/IPython/extensions', '~/Python/Slides/TestCode'])\n",
        "('The updated python search path::', ['', '/software/pkg/anaconda/2.0.1/lib/python27.zip', '/software/pkg/anaconda/2.0.1/lib/python2.7', '/software/pkg/anaconda/2.0.1/lib/python2.7/plat-linux2', '/software/pkg/anaconda/2.0.1/lib/python2.7/lib-tk', '/software/pkg/anaconda/2.0.1/lib/python2.7/lib-old', '/software/pkg/anaconda/2.0.1/lib/python2.7/lib-dynload', '/software/pkg/anaconda/2.0.1/lib/python2.7/site-packages', '/software/pkg/anaconda/2.0.1/lib/python2.7/site-packages/PIL', '/software/pkg/anaconda/2.0.1/lib/python2.7/site-packages/runipy-0.1.0-py2.7.egg', '/software/pkg/anaconda/2.0.1/lib/python2.7/site-packages/setuptools-3.6-py2.7.egg', '/software/pkg/anaconda/2.0.1/lib/python2.7/site-packages/IPython/extensions', '~/Python/Slides/TestCode', './TestCode'])\n"
       ]
      },
      {
       "metadata": {},
       "output_type": "pyout",
       "prompt_number": 8,
       "text": [
        "5040"
       ]
      }
     ],
     "prompt_number": 8
    },
    {
     "cell_type": "heading",
     "level": 3,
     "metadata": {},
     "source": [
      "Executing Python statement on a command line"
     ]
    },
    {
     "cell_type": "code",
     "collapsed": false,
     "input": [
      "!python -c \"import math;print math.pi\""
     ],
     "language": "python",
     "metadata": {},
     "outputs": [
      {
       "output_type": "stream",
       "stream": "stdout",
       "text": [
        "3.14159265359\r\n"
       ]
      }
     ],
     "prompt_number": 21
    },
    {
     "cell_type": "heading",
     "level": 3,
     "metadata": {},
     "source": [
      "Additional info on modules "
     ]
    },
    {
     "cell_type": "code",
     "collapsed": false,
     "input": [
      "# To be executed in a shell directly\n",
      "import math\n",
      "dir(math)         # Content of the math module\n",
      "help(math)        # Help on the math module -> top line shows where the module is installed\n",
      "help('modules')   # Which modules are available\n",
      "\n",
      "# Important modules (Check them out)\n",
      "# math\n",
      "# cmath\n",
      "# os\n",
      "# sys\n",
      "# shutil "
     ],
     "language": "python",
     "metadata": {},
     "outputs": [],
     "prompt_number": 24
    },
    {
     "cell_type": "heading",
     "level": 1,
     "metadata": {},
     "source": [
      "Exercises"
     ]
    },
    {
     "cell_type": "markdown",
     "metadata": {},
     "source": [
      "* Experiment with the regular python environment instead of ipython\n",
      "* Write the function 'solve_quad' to solve the quadratic equation $a\\,x^2\\,+\\,b\\,x\\,+\\,c=0$<br>\n",
      "  * Your code also needs to handle the case where $a=0$ (linear equation)<br>\n",
      "  * Test your code (using the name/main construct) for the following 4 possible cases:\n",
      "    * a,b,c = (1.,-3.,2.)\n",
      "    * a,b,c = (1.,-2.,10.)\n",
      "    * a,b,c = (1.,-4.,4.)\n",
      "    * a,b,c = (0.,2.,3.)\n",
      "* The series $\\sum_{k=1}^{\\infty} \\frac{sin(k)}{k^2} $ is absolutely convergent<br>\n",
      "  * Write a function (module sn.py) to calculate the partial sum <br> \n",
      "    $S_n := \\sum_{k=1}^{k=n}  \\frac{sin(k)}{k^2} $ <br>\n",
      "  * Test your function using the name/main construct\n",
      "  * Write a second module sn_test.py where you use the sn function \n",
      "    to calculate the partial sums for n=10, 20, 30, ..., 500"
     ]
    },
    {
     "cell_type": "code",
     "collapsed": false,
     "input": [],
     "language": "python",
     "metadata": {},
     "outputs": []
    }
   ],
   "metadata": {}
  }
 ]
}