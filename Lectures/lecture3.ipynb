{
 "metadata": {
  "name": "",
  "signature": "sha256:8d79033c9de583eb35d586c169827df5bc5c4c2ec3ca65bf9affcdfbc4de475b"
 },
 "nbformat": 3,
 "nbformat_minor": 0,
 "worksheets": [
  {
   "cells": [
    {
     "cell_type": "heading",
     "level": 2,
     "metadata": {},
     "source": [
      "Why go beyond regular python for scientific applications?"
     ]
    },
    {
     "cell_type": "markdown",
     "metadata": {},
     "source": [
      "* Traditional Python list can contain object of whatever type\n",
      "  * Pro: Very flexible\n",
      "  * Con: Slow \n",
      "* In scientific applications, we have arrays of a well-defined type (e.g. int, float, double)\n",
      "* To speed up => introduction of numpy "
     ]
    },
    {
     "cell_type": "heading",
     "level": 3,
     "metadata": {},
     "source": [
      "Simple test:"
     ]
    },
    {
     "cell_type": "code",
     "collapsed": false,
     "input": [
      "SZ=10000"
     ],
     "language": "python",
     "metadata": {},
     "outputs": [],
     "prompt_number": 27
    },
    {
     "cell_type": "code",
     "collapsed": false,
     "input": [
      "%timeit [item**2 for item in range(SZ)]"
     ],
     "language": "python",
     "metadata": {},
     "outputs": [
      {
       "output_type": "stream",
       "stream": "stdout",
       "text": [
        "10 loops, best of 3: 21.2 ms per loop\n"
       ]
      }
     ],
     "prompt_number": 26
    },
    {
     "cell_type": "code",
     "collapsed": false,
     "input": [
      "import numpy as np\n",
      "%timeit np.arange(SZ)**2"
     ],
     "language": "python",
     "metadata": {},
     "outputs": [
      {
       "output_type": "stream",
       "stream": "stdout",
       "text": [
        "10000 loops, best of 3: 36.5 \u00b5s per loop\n"
       ]
      }
     ],
     "prompt_number": 28
    },
    {
     "cell_type": "heading",
     "level": 2,
     "metadata": {},
     "source": [
      "What is numpy?"
     ]
    },
    {
     "cell_type": "markdown",
     "metadata": {},
     "source": [
      "* based on a multidimensional array object i.e. ndarray \n",
      "* relies on mathematical libraries in Fortran (blas, lapack) and C (fft) => enhances speed\n",
      "* numpy forms the building block of most python based scientific packages, such as:\n",
      "  * scipy: scientific routines on top of numpy\n",
      "  * matplotlib: 2D plotting \n",
      "  * pandas: data structure & analysis\n",
      "  * sympy: symbolic mathematics"
     ]
    },
    {
     "cell_type": "heading",
     "level": 2,
     "metadata": {},
     "source": [
      "Creation of arrays"
     ]
    },
    {
     "cell_type": "heading",
     "level": 3,
     "metadata": {},
     "source": [
      "1D array:"
     ]
    },
    {
     "cell_type": "code",
     "collapsed": false,
     "input": [
      "import numpy as np\n",
      "# There are several possibilities\n",
      "a=np.array(range(10))       # starting from a python list\n",
      "print(\"a:{0}\".format(a))\n",
      "\n",
      "b=np.arange(10)             # using the arange function\n",
      "print(\"b:{0}\".format(b))\n",
      "\n",
      "c=np.arange(0.,1.0,0.1)     # Can also be used with FLOATS!\n",
      "print(\"c:{0}\".format(c))\n",
      "\n",
      "d=np.linspace(0,1,11)       # [0,1] with equidistant intervals\n",
      "print(\"d:{0}\".format(d))\n",
      "\n",
      "e=np.linspace(0,1,10,endpoint=False) # [0,1[ with equidistant intervals\n",
      "print(\"e:{0}\".format(e))"
     ],
     "language": "python",
     "metadata": {},
     "outputs": [
      {
       "output_type": "stream",
       "stream": "stdout",
       "text": [
        "a:[0 1 2 3 4 5 6 7 8 9]\n",
        "b:[0 1 2 3 4 5 6 7 8 9]\n",
        "c:[ 0.   0.1  0.2  0.3  0.4  0.5  0.6  0.7  0.8  0.9]\n",
        "d:[ 0.   0.1  0.2  0.3  0.4  0.5  0.6  0.7  0.8  0.9  1. ]\n",
        "e:[ 0.   0.1  0.2  0.3  0.4  0.5  0.6  0.7  0.8  0.9]\n",
        "f:[0 1 2 3 4 5 6 7 8 9]\n"
       ]
      }
     ],
     "prompt_number": 14
    },
    {
     "cell_type": "heading",
     "level": 3,
     "metadata": {},
     "source": [
      "Multi dimensional array:"
     ]
    },
    {
     "cell_type": "code",
     "collapsed": false,
     "input": [
      "import numpy as np\n",
      "a=np.array([[1,2,3,4],[5,6,7,8],[9,10,11,12]])\n",
      "print(\"a:{0}\".format(a))\n",
      "\n",
      "b=np.arange(1,13).reshape(3,4)\n",
      "print(\"b:{0}\".format(b))\n",
      "\n",
      "# Meshgrid -> useful to make surfaces/(plots)\n",
      "x=np.arange(-8, 8, 0.25)\n",
      "y=np.arange(-8,8, 0.25) \n",
      "EPS=1.0E-4\n",
      "xc,yc=np.meshgrid(x,y)\n",
      "print(\"x: dim:{0} -> {1}\".format(x.shape,x))\n",
      "print(\"y: dim:{0} -> {1}\".format(y.shape,y))\n",
      "r = np.sqrt(xc**2 + yc**2) + EPS\n",
      "zc = np.sin(r)/r\n",
      "\n",
      "from mpl_toolkits.mplot3d import Axes3D\n",
      "from matplotlib import cm\n",
      "from matplotlib.ticker import LinearLocator, FormatStrFormatter\n",
      "import matplotlib.pyplot as plt\n",
      "import numpy as np\n",
      "\n",
      "fig = plt.figure()\n",
      "ax = fig.gca(projection='3d')\n",
      "surf = ax.plot_surface(xc, yc, zc, rstride=1, cstride=1,cmap=cm.spectral_r,\n",
      "        linewidth=0, antialiased=False)\n",
      "ax.set_zlim(-0.1, 1.00)\n",
      "\n",
      "ax.zaxis.set_major_locator(LinearLocator(10))\n",
      "ax.zaxis.set_major_formatter(FormatStrFormatter('%.02f'))\n",
      "\n",
      "plt.show()"
     ],
     "language": "python",
     "metadata": {},
     "outputs": [
      {
       "output_type": "stream",
       "stream": "stdout",
       "text": [
        "a:[[ 1  2  3  4]\n",
        " [ 5  6  7  8]\n",
        " [ 9 10 11 12]]\n",
        "b:[[ 1  2  3  4]\n",
        " [ 5  6  7  8]\n",
        " [ 9 10 11 12]]\n",
        "x: dim:(64,) -> [-8.   -7.75 -7.5  -7.25 -7.   -6.75 -6.5  -6.25 -6.   -5.75 -5.5  -5.25\n",
        " -5.   -4.75 -4.5  -4.25 -4.   -3.75 -3.5  -3.25 -3.   -2.75 -2.5  -2.25\n",
        " -2.   -1.75 -1.5  -1.25 -1.   -0.75 -0.5  -0.25  0.    0.25  0.5   0.75\n",
        "  1.    1.25  1.5   1.75  2.    2.25  2.5   2.75  3.    3.25  3.5   3.75\n",
        "  4.    4.25  4.5   4.75  5.    5.25  5.5   5.75  6.    6.25  6.5   6.75\n",
        "  7.    7.25  7.5   7.75]\n",
        "y: dim:(64,) -> [-8.   -7.75 -7.5  -7.25 -7.   -6.75 -6.5  -6.25 -6.   -5.75 -5.5  -5.25\n",
        " -5.   -4.75 -4.5  -4.25 -4.   -3.75 -3.5  -3.25 -3.   -2.75 -2.5  -2.25\n",
        " -2.   -1.75 -1.5  -1.25 -1.   -0.75 -0.5  -0.25  0.    0.25  0.5   0.75\n",
        "  1.    1.25  1.5   1.75  2.    2.25  2.5   2.75  3.    3.25  3.5   3.75\n",
        "  4.    4.25  4.5   4.75  5.    5.25  5.5   5.75  6.    6.25  6.5   6.75\n",
        "  7.    7.25  7.5   7.75]\n"
       ]
      }
     ],
     "prompt_number": 21
    },
    {
     "cell_type": "heading",
     "level": 3,
     "metadata": {},
     "source": [
      "How to find properties of an array?"
     ]
    },
    {
     "cell_type": "markdown",
     "metadata": {},
     "source": [
      "* reshape: change the shape of the array\n",
      "* ndim: dimensionality of the array (#axes)\n",
      "* shape: dimensions of the array\n",
      "* dtype: type of the elements\n",
      "* itemsize: memory occupied by 1 element"
     ]
    },
    {
     "cell_type": "code",
     "collapsed": false,
     "input": [
      "a=np.arange(30).reshape(2,3,5)\n",
      "print(\"a:{0}\".format(a))\n",
      "# ndim, shape, size dtype, dtype.name\n",
      "print(\"a.ndim:'{0}'\".format(a.ndim))\n",
      "print(\"a.shape:'{0}'\".format(a.shape))\n",
      "print(\"a.dtype:'{0}'\".format(a.dtype))\n",
      "print(\"a.itemsize:'{0}'\".format(a.itemsize))"
     ],
     "language": "python",
     "metadata": {},
     "outputs": [
      {
       "output_type": "stream",
       "stream": "stdout",
       "text": [
        "a:[[[ 0  1  2  3  4]\n",
        "  [ 5  6  7  8  9]\n",
        "  [10 11 12 13 14]]\n",
        "\n",
        " [[15 16 17 18 19]\n",
        "  [20 21 22 23 24]\n",
        "  [25 26 27 28 29]]]\n",
        "a.ndim:'3'\n",
        "a.shape:'(2, 3, 5)'\n",
        "a.dtype:'int64'\n",
        "a.itemsize:'8'\n"
       ]
      }
     ],
     "prompt_number": 25
    },
    {
     "cell_type": "heading",
     "level": 3,
     "metadata": {},
     "source": [
      "Create special arrays (form & types)"
     ]
    },
    {
     "cell_type": "markdown",
     "metadata": {},
     "source": [
      "Numpy support several types e.g.:\n",
      "* int8, int16 int32, int64\n",
      "* uint8, uint16, uint32, uint64\n",
      "* float16, float32, float64\n",
      "* complex64, complex128 \n",
      "* ...\n",
      "For all the data types supported by numpy, see:<br>\n",
      "here comes a link"
     ]
    },
    {
     "cell_type": "code",
     "collapsed": false,
     "input": [
      "# Assign arrays with a certain type\n",
      "i1=np.arange(10,dtype='int32')\n",
      "print(i1)\n",
      "print(i1.dtype)\n",
      "print(i1.itemsize)\n",
      "i2=np.arange(10,dtype='int64')\n",
      "print(i2)\n",
      "print(i2.dtype)\n",
      "print(i2.itemsize)\n",
      "\n",
      "i3=np.arange(10) # Default\n",
      "print(i3)\n",
      "print(i3.dtype)\n",
      "print(i3.itemsize)\n",
      "\n",
      "z1=np.arange(10,dtype='complex128')\n",
      "print(z1)\n",
      "print(z1.itemsize)\n",
      "\n",
      "# Change type of an array (cast function)\n",
      "i4=i3.astype(dtype='float')\n",
      "print(i4)\n",
      "print(i4.dtype)\n",
      "print(i4.itemsize)\n"
     ],
     "language": "python",
     "metadata": {},
     "outputs": [
      {
       "output_type": "stream",
       "stream": "stdout",
       "text": [
        "[0 1 2 3 4 5 6 7 8 9]\n",
        "int32\n",
        "4\n",
        "[0 1 2 3 4 5 6 7 8 9]\n",
        "int64\n",
        "8\n",
        "[0 1 2 3 4 5 6 7 8 9]\n",
        "int64\n",
        "8\n",
        "[ 0.+0.j  1.+0.j  2.+0.j  3.+0.j  4.+0.j  5.+0.j  6.+0.j  7.+0.j  8.+0.j\n",
        "  9.+0.j]\n",
        "16\n",
        "[ 0.  1.  2.  3.  4.  5.  6.  7.  8.  9.]\n",
        "float64\n",
        "8\n"
       ]
      }
     ],
     "prompt_number": 53
    },
    {
     "cell_type": "markdown",
     "metadata": {},
     "source": [
      "Numpy supports several types of initializations:\n",
      "* zeros\n",
      "* one\n",
      "* eye\n",
      "* diag\n",
      "* fromfunction"
     ]
    },
    {
     "cell_type": "code",
     "collapsed": false,
     "input": [
      "a1=np.zeros((4,5),dtype='float64')\n",
      "print(\"a1:\\n{0}\".format(a1))\n",
      "a2=np.ones((2,7),dtype='int64')\n",
      "print(\"a2:\\n{0}\".format(a2))\n",
      "a3=np.eye(5,dtype='float64')\n",
      "print(\"a3:\\n{0}\".format(a3))\n",
      "a4=np.diag(np.arange(1,7,dtype='int32'))\n",
      "print(\"a4:\\n{0}\".format(a4))\n",
      "a5=np.fromfunction(lambda x,y: x+2*y,(2,5),dtype='float64')\n",
      "print(\"a5:\\n{0}\".format(a5))\n",
      "print(help(np.fromfunction))"
     ],
     "language": "python",
     "metadata": {},
     "outputs": [
      {
       "output_type": "stream",
       "stream": "stdout",
       "text": [
        "a1:\n",
        "[[ 0.  0.  0.  0.  0.]\n",
        " [ 0.  0.  0.  0.  0.]\n",
        " [ 0.  0.  0.  0.  0.]\n",
        " [ 0.  0.  0.  0.  0.]]\n",
        "a2:\n",
        "[[1 1 1 1 1 1 1]\n",
        " [1 1 1 1 1 1 1]]\n",
        "a3:\n",
        "[[ 1.  0.  0.  0.  0.]\n",
        " [ 0.  1.  0.  0.  0.]\n",
        " [ 0.  0.  1.  0.  0.]\n",
        " [ 0.  0.  0.  1.  0.]\n",
        " [ 0.  0.  0.  0.  1.]]\n",
        "a4:\n",
        "[[1 0 0 0 0 0]\n",
        " [0 2 0 0 0 0]\n",
        " [0 0 3 0 0 0]\n",
        " [0 0 0 4 0 0]\n",
        " [0 0 0 0 5 0]\n",
        " [0 0 0 0 0 6]]\n",
        "a5:\n",
        "[[ 0.  2.  4.  6.  8.]\n",
        " [ 1.  3.  5.  7.  9.]]\n",
        "Help on function fromfunction in module numpy.core.numeric:\n",
        "\n",
        "fromfunction(function, shape, **kwargs)\n",
        "    Construct an array by executing a function over each coordinate.\n",
        "    \n",
        "    The resulting array therefore has a value ``fn(x, y, z)`` at\n",
        "    coordinate ``(x, y, z)``.\n",
        "    \n",
        "    Parameters\n",
        "    ----------\n",
        "    function : callable\n",
        "        The function is called with N parameters, where N is the rank of\n",
        "        `shape`.  Each parameter represents the coordinates of the array\n",
        "        varying along a specific axis.  For example, if `shape`\n",
        "        were ``(2, 2)``, then the parameters in turn be (0, 0), (0, 1),\n",
        "        (1, 0), (1, 1).\n",
        "    shape : (N,) tuple of ints\n",
        "        Shape of the output array, which also determines the shape of\n",
        "        the coordinate arrays passed to `function`.\n",
        "    dtype : data-type, optional\n",
        "        Data-type of the coordinate arrays passed to `function`.\n",
        "        By default, `dtype` is float.\n",
        "    \n",
        "    Returns\n",
        "    -------\n",
        "    fromfunction : any\n",
        "        The result of the call to `function` is passed back directly.\n",
        "        Therefore the shape of `fromfunction` is completely determined by\n",
        "        `function`.  If `function` returns a scalar value, the shape of\n",
        "        `fromfunction` would match the `shape` parameter.\n",
        "    \n",
        "    See Also\n",
        "    --------\n",
        "    indices, meshgrid\n",
        "    \n",
        "    Notes\n",
        "    -----\n",
        "    Keywords other than `dtype` are passed to `function`.\n",
        "    \n",
        "    Examples\n",
        "    --------\n",
        "    >>> np.fromfunction(lambda i, j: i == j, (3, 3), dtype=int)\n",
        "    array([[ True, False, False],\n",
        "           [False,  True, False],\n",
        "           [False, False,  True]], dtype=bool)\n",
        "    \n",
        "    >>> np.fromfunction(lambda i, j: i + j, (3, 3), dtype=int)\n",
        "    array([[0, 1, 2],\n",
        "           [1, 2, 3],\n",
        "           [2, 3, 4]])\n",
        "\n",
        "None\n"
       ]
      }
     ],
     "prompt_number": 51
    },
    {
     "cell_type": "heading",
     "level": 2,
     "metadata": {},
     "source": [
      "Indexing and Slicing"
     ]
    },
    {
     "cell_type": "heading",
     "level": 3,
     "metadata": {},
     "source": [
      "1D Array"
     ]
    },
    {
     "cell_type": "markdown",
     "metadata": {},
     "source": [
      "Very similar as in regular python"
     ]
    },
    {
     "cell_type": "code",
     "collapsed": false,
     "input": [
      "import numpy as np\n",
      "a=np.arange(21)\n",
      "print(\"a:          {0}\".format(a))\n",
      "print(\"a[4]:{0}      a[20]:{1}\".format(a[4],a[20]))\n",
      "print(\"a[2:12:3]:  {0}\".format(a[2:12:3]))\n",
      "print(\"a[2::5]:    {0}\".format(a[2::5]))\n",
      "print(\"a[-5:-1]:   {0}\".format(a[-5:-1]))\n",
      "print(\"a[-7::2]:   {0}\".format(a[-7::2]))"
     ],
     "language": "python",
     "metadata": {},
     "outputs": [
      {
       "output_type": "stream",
       "stream": "stdout",
       "text": [
        "a:          [ 0  1  2  3  4  5  6  7  8  9 10 11 12 13 14 15 16 17 18 19 20]\n",
        "a[4]:4      a[20]:20\n",
        "a[2:12:3]:  [ 2  5  8 11]\n",
        "a[2::5]:    [ 2  7 12 17]\n",
        "a[-5:-1]:   [16 17 18 19]\n",
        "a[-7::2]:   [14 16 18 20]\n"
       ]
      }
     ],
     "prompt_number": 9
    },
    {
     "cell_type": "heading",
     "level": 3,
     "metadata": {},
     "source": [
      "ND Array"
     ]
    },
    {
     "cell_type": "code",
     "collapsed": false,
     "input": [
      "# ND Slicing\n",
      "a=np.arange(24).reshape((2,3,4))\n",
      "print(a)\n",
      "print(a.shape)\n",
      "print(\"a:{0}\".format(a))\n",
      "\n",
      "# Start slicing ...\n",
      "b=a[0,:,:]\n",
      "print(\"b:      {0}\".format(b))\n",
      "print(\"b.shape:{0}\".format(b.shape))\n",
      "\n",
      "c=a[:,1:2,2:4]\n",
      "print(\"c:      {0}\".format(c))\n",
      "print(\"c.shape:{0}\".format(c.shape))\n",
      "\n",
      "# Remove singleton dimension (a.k.a. squeezing in Matlab)\n",
      "d=np.squeeze(c)\n",
      "print(\"d:      {0}\".format(d))\n",
      "print(\"d.shape:{0}\".format(d.shape))\n",
      "\n",
      "# or more explicitly if you want to target a particular axis\n",
      "e=np.squeeze(c,axis=1)\n",
      "print(\"e.shape:{0}\".format(e.shape))\n",
      "\n",
      "# Inverse of squeezing?\n",
      "f=d[:,np.newaxis,:]\n",
      "print(\"f.shape:{0}\".format(f.shape))"
     ],
     "language": "python",
     "metadata": {},
     "outputs": [
      {
       "output_type": "stream",
       "stream": "stdout",
       "text": [
        "[[[ 0  1  2  3]\n",
        "  [ 4  5  6  7]\n",
        "  [ 8  9 10 11]]\n",
        "\n",
        " [[12 13 14 15]\n",
        "  [16 17 18 19]\n",
        "  [20 21 22 23]]]\n",
        "(2, 3, 4)\n",
        "a:[[[ 0  1  2  3]\n",
        "  [ 4  5  6  7]\n",
        "  [ 8  9 10 11]]\n",
        "\n",
        " [[12 13 14 15]\n",
        "  [16 17 18 19]\n",
        "  [20 21 22 23]]]\n",
        "b:      [[ 0  1  2  3]\n",
        " [ 4  5  6  7]\n",
        " [ 8  9 10 11]]\n",
        "b.shape:(3, 4)\n",
        "c:      [[[ 6  7]]\n",
        "\n",
        " [[18 19]]]\n",
        "c.shape:(2, 1, 2)\n",
        "d:      [[ 6  7]\n",
        " [18 19]]\n",
        "d.shape:(2, 2)\n",
        "e.shape:(2, 2)\n",
        "f.shape:(2, 1, 2)\n"
       ]
      }
     ],
     "prompt_number": 16
    },
    {
     "cell_type": "heading",
     "level": 4,
     "metadata": {},
     "source": [
      "Exercises:"
     ]
    },
    {
     "cell_type": "markdown",
     "metadata": {},
     "source": [
      "* Create a tridiagonal matrix (10x10) <br>\n",
      "  The diagonal elements have the value of the corresponding python row id.<br>\n",
      "  The matrix elements above and below the diagonal are<br> \n",
      "  the sum of the adjacent diagonal elements (hint: use the np.diag function)\n",
      "* Create a random matrix (7x7) with values [0,1[<br>\n",
      "  Replace the core 3x3 matrix of the above matrix with ones.\n",
      "* Create a (8x8) checkerboard containing 0 and 1's (type integer)\n",
      "  in 2 different ways:\n",
      "  * using the numpy tile function\n",
      "  * without using the tile function"
     ]
    },
    {
     "cell_type": "heading",
     "level": 2,
     "metadata": {},
     "source": [
      "Elementary operations on arrays"
     ]
    },
    {
     "cell_type": "markdown",
     "metadata": {},
     "source": [
      "Python operations:\n",
      "* done on an <font color=\"red\"><b>element-by-element</b></font> basis"
     ]
    },
    {
     "cell_type": "code",
     "collapsed": false,
     "input": [
      "# Example:\n",
      "# see also: \n",
      "# http://docs.scipy.org/doc/numpy-1.8.1/\n",
      "# http://docs.scipy.org/doc/numpy-1.8.1/user/basics.broadcasting.html?highlight=broadcasting#numpy.doc.broadcasting\n",
      "# http://wiki.scipy.org/EricsBroadcastingDoc\n",
      "a=np.arange(5)\n",
      "b=np.arange(20,30,2)\n",
      "print(\" a:{0}\".format(a))\n",
      "print(\" b:{0}\".format(b))\n",
      "# Test multiplication and an addition\n",
      "print(\" a+b:{0}\".format(a+b))\n",
      "print(\" a*b:{0}\".format(a*b))"
     ],
     "language": "python",
     "metadata": {},
     "outputs": [
      {
       "output_type": "stream",
       "stream": "stdout",
       "text": [
        " a:[0 1 2 3 4]\n",
        " b:[20 22 24 26 28]\n",
        " a+b:[20 23 26 29 32]\n",
        " a*b:[  0  22  48  78 112]\n"
       ]
      }
     ],
     "prompt_number": 2
    },
    {
     "cell_type": "markdown",
     "metadata": {},
     "source": [
      "<font color=\"green\"><b>How to perform a matrix multiplication in numpy?</b></font><br>\n",
      "Numpy has its \"matrix\" multiplication function: np.dot\n",
      "* 1D: dot-product\n",
      "* 2D: matrix-multiplication"
     ]
    },
    {
     "cell_type": "code",
     "collapsed": false,
     "input": [
      "# Examples 1D and 2D\n",
      "a=np.arange(1,5)\n",
      "b=np.arange(3,7)\n",
      "print(\"Dot-product (1D)::\")\n",
      "print(\"  a:{0}\".format(a))\n",
      "print(\"  b:{0}\".format(b))\n",
      "print(\"    => a.b:{0}\".format(np.dot(a,b)))\n",
      "\n",
      "print(\"Matrix-product (2D)::\")\n",
      "c=np.arange(6).reshape((2,3))\n",
      "d=np.arange(15).reshape((3,5))\n",
      "print(\"  c:\\n{0}\".format(c))\n",
      "print(\"\\n  d:\\n{0}\".format(d))\n",
      "print(\"\\n  c x d:\\n{0}\".format(np.dot(c,d)))\n",
      "\n",
      "print(\"Dot-product (1D) version 2::\")\n",
      "print(\"    => a.b:{0}\".format(np.sum(np.dot(a,b.reshape(4,1))))) # Sum is required to convert [1x1] into scalar"
     ],
     "language": "python",
     "metadata": {},
     "outputs": [
      {
       "output_type": "stream",
       "stream": "stdout",
       "text": [
        "Dot-product (1D)::\n",
        "  a:[1 2 3 4]\n",
        "  b:[3 4 5 6]\n",
        "    => a.b:50\n",
        "Matrix-product (2D)::\n",
        "  c:\n",
        "[[0 1 2]\n",
        " [3 4 5]]\n",
        "\n",
        "  d:\n",
        "[[ 0  1  2  3  4]\n",
        " [ 5  6  7  8  9]\n",
        " [10 11 12 13 14]]\n",
        "\n",
        "  c x d:\n",
        "[[ 25  28  31  34  37]\n",
        " [ 70  82  94 106 118]]\n",
        "Dot-product (1D) version 2::\n",
        "    => a.b:50\n"
       ]
      }
     ],
     "prompt_number": 5
    },
    {
     "cell_type": "code",
     "collapsed": false,
     "input": [
      "# Multiplying 2 vectors: \n",
      "# Ex1: Wrong dimension?\n",
      "c=np.arange(4)\n",
      "d=d=np.linspace(0,1,5)\n",
      "print(\"c:{0}\".format(c))\n",
      "print(\"d:{0}\".format(d))\n",
      "print(\"c.shape:{0}\".format(c.shape))\n",
      "print(\"d.shape:{0}\".format(d.shape))\n",
      "e=c+d"
     ],
     "language": "python",
     "metadata": {},
     "outputs": [
      {
       "output_type": "stream",
       "stream": "stdout",
       "text": [
        "c:[0 1 2 3]\n",
        "d:[ 0.    0.25  0.5   0.75  1.  ]\n",
        "c.shape:(4,)\n",
        "d.shape:(5,)\n"
       ]
      },
      {
       "ename": "ValueError",
       "evalue": "operands could not be broadcast together with shapes (4,) (5,) ",
       "output_type": "pyerr",
       "traceback": [
        "\u001b[1;31m---------------------------------------------------------------------------\u001b[0m\n\u001b[1;31mValueError\u001b[0m                                Traceback (most recent call last)",
        "\u001b[1;32m<ipython-input-6-b9cd6da8b8cf>\u001b[0m in \u001b[0;36m<module>\u001b[1;34m()\u001b[0m\n\u001b[0;32m      7\u001b[0m \u001b[1;32mprint\u001b[0m\u001b[1;33m(\u001b[0m\u001b[1;34m\"c.shape:{0}\"\u001b[0m\u001b[1;33m.\u001b[0m\u001b[0mformat\u001b[0m\u001b[1;33m(\u001b[0m\u001b[0mc\u001b[0m\u001b[1;33m.\u001b[0m\u001b[0mshape\u001b[0m\u001b[1;33m)\u001b[0m\u001b[1;33m)\u001b[0m\u001b[1;33m\u001b[0m\u001b[0m\n\u001b[0;32m      8\u001b[0m \u001b[1;32mprint\u001b[0m\u001b[1;33m(\u001b[0m\u001b[1;34m\"d.shape:{0}\"\u001b[0m\u001b[1;33m.\u001b[0m\u001b[0mformat\u001b[0m\u001b[1;33m(\u001b[0m\u001b[0md\u001b[0m\u001b[1;33m.\u001b[0m\u001b[0mshape\u001b[0m\u001b[1;33m)\u001b[0m\u001b[1;33m)\u001b[0m\u001b[1;33m\u001b[0m\u001b[0m\n\u001b[1;32m----> 9\u001b[1;33m \u001b[0me\u001b[0m\u001b[1;33m=\u001b[0m\u001b[0mc\u001b[0m\u001b[1;33m+\u001b[0m\u001b[0md\u001b[0m\u001b[1;33m\u001b[0m\u001b[0m\n\u001b[0m",
        "\u001b[1;31mValueError\u001b[0m: operands could not be broadcast together with shapes (4,) (5,) "
       ]
      }
     ],
     "prompt_number": 6
    },
    {
     "cell_type": "code",
     "collapsed": false,
     "input": [
      "# Multiplying 2 vectors: \n",
      "# Ex2: Wrong dimension?\n",
      "d=d.reshape((5,1))\n",
      "print(\"c:{0}\".format(c))\n",
      "print(\"d:{0}\".format(d))\n",
      "print(\"c.shape:{0}\".format(c.shape))\n",
      "print(\"d.shape:{0}\".format(d.shape))\n",
      "e=c+d\n",
      "print(\"e:\\n{0}\".format(e))\n",
      "print(\"e.shape:{0}\".format(e.shape))"
     ],
     "language": "python",
     "metadata": {},
     "outputs": [
      {
       "output_type": "stream",
       "stream": "stdout",
       "text": [
        "c:[0 1 2 3]\n",
        "d:[[ 0.  ]\n",
        " [ 0.25]\n",
        " [ 0.5 ]\n",
        " [ 0.75]\n",
        " [ 1.  ]]\n",
        "c.shape:(4,)\n",
        "d.shape:(5, 1)\n",
        "e:\n",
        "[[ 0.    1.    2.    3.  ]\n",
        " [ 0.25  1.25  2.25  3.25]\n",
        " [ 0.5   1.5   2.5   3.5 ]\n",
        " [ 0.75  1.75  2.75  3.75]\n",
        " [ 1.    2.    3.    4.  ]]\n",
        "e.shape:(5, 4)\n"
       ]
      }
     ],
     "prompt_number": 14
    },
    {
     "cell_type": "heading",
     "level": 3,
     "metadata": {},
     "source": [
      "Broadcasting"
     ]
    },
    {
     "cell_type": "markdown",
     "metadata": {},
     "source": [
      "* Definition :: required to operate on (some) arrays with mismatched shapes\n",
      "* Start with the trailing dimenions (i.e. from left to right)\n",
      "* Two dimensions of the array are compatible iff\n",
      "  * they have the same dimension\n",
      "  * one of the dimension is 1\n",
      "\n",
      "<font color=\"green\"><b>Both arrays can have a different #axes</b></font>"
     ]
    },
    {
     "cell_type": "code",
     "collapsed": false,
     "input": [
      "# Example 1\n",
      "# Res: x: 4 x 1\n",
      "#      y:     5\n",
      "# -------------\n",
      "#    x+y: 4 x 5\n",
      "#---------------\n",
      "x = np.arange(4)\n",
      "x = x.reshape(4,1)\n",
      "print(\"x:{0}\\n{1}\".format(x.shape,x))\n",
      "y = np.ones(5)\n",
      "print(\"\\ny:{0}\\n{1}\".format(y.shape,y))\n",
      "print(\"\\nx+y:{0}\\n{1}\".format((x+y).shape,x+y))"
     ],
     "language": "python",
     "metadata": {},
     "outputs": [
      {
       "output_type": "stream",
       "stream": "stdout",
       "text": [
        "x:(4, 1)\n",
        "[[0]\n",
        " [1]\n",
        " [2]\n",
        " [3]]\n",
        "\n",
        "y:(5,)\n",
        "[ 1.  1.  1.  1.  1.]\n",
        "\n",
        "x+y:(4, 5)\n",
        "[[ 1.  1.  1.  1.  1.]\n",
        " [ 2.  2.  2.  2.  2.]\n",
        " [ 3.  3.  3.  3.  3.]\n",
        " [ 4.  4.  4.  4.  4.]]\n"
       ]
      }
     ],
     "prompt_number": 15
    },
    {
     "cell_type": "code",
     "collapsed": false,
     "input": [
      "# Example 2\n",
      "# Res: x: 13 x 1 x 7 x 1\n",
      "#      y:      8 x 7 x 5\n",
      "# -------------\n",
      "#    res: 13 x 8 x 7 x 5\n",
      "#---------------\n",
      "x=np.arange(91).reshape((13,1,7,1))\n",
      "y=np.arange(8*7*5).reshape((8,7,5))\n",
      "z=x+y\n",
      "print(\"x.shape:{0}\".format(x.shape))\n",
      "print(\"\\ny.shape:{0}\".format(y.shape))\n",
      "print(\"\\nz.shape:{0}\".format(z.shape))"
     ],
     "language": "python",
     "metadata": {},
     "outputs": [
      {
       "output_type": "stream",
       "stream": "stdout",
       "text": [
        "x.shape:(13, 1, 7, 1)\n",
        "\n",
        "y.shape:(8, 7, 5)\n",
        "\n",
        "z.shape:(13, 8, 7, 5)\n"
       ]
      }
     ],
     "prompt_number": 16
    },
    {
     "cell_type": "code",
     "collapsed": false,
     "input": [
      "# Example 3:\n",
      "# Res: x: 3 x 8 x 3\n",
      "#      y:     3 x 1\n",
      "# -------------\n",
      "#    res:     Error !! (8 & 3)\n",
      "#---------------\n",
      "x=np.arange(72).reshape((3,8,3))\n",
      "y=np.arange(9).reshape((3,3))\n",
      "z=x+y\n",
      "print(\"x.shape:{0}\".format(x.shape))\n",
      "print(\"\\ny.shape:{0}\".format(y.shape))\n",
      "print(\"\\nz.shape:{0}\".format(z.shape))"
     ],
     "language": "python",
     "metadata": {},
     "outputs": [
      {
       "ename": "ValueError",
       "evalue": "operands could not be broadcast together with shapes (3,8,3) (3,3) ",
       "output_type": "pyerr",
       "traceback": [
        "\u001b[1;31m---------------------------------------------------------------------------\u001b[0m\n\u001b[1;31mValueError\u001b[0m                                Traceback (most recent call last)",
        "\u001b[1;32m<ipython-input-17-56b002c4e586>\u001b[0m in \u001b[0;36m<module>\u001b[1;34m()\u001b[0m\n\u001b[0;32m      7\u001b[0m \u001b[0mx\u001b[0m\u001b[1;33m=\u001b[0m\u001b[0mnp\u001b[0m\u001b[1;33m.\u001b[0m\u001b[0marange\u001b[0m\u001b[1;33m(\u001b[0m\u001b[1;36m72\u001b[0m\u001b[1;33m)\u001b[0m\u001b[1;33m.\u001b[0m\u001b[0mreshape\u001b[0m\u001b[1;33m(\u001b[0m\u001b[1;33m(\u001b[0m\u001b[1;36m3\u001b[0m\u001b[1;33m,\u001b[0m\u001b[1;36m8\u001b[0m\u001b[1;33m,\u001b[0m\u001b[1;36m3\u001b[0m\u001b[1;33m)\u001b[0m\u001b[1;33m)\u001b[0m\u001b[1;33m\u001b[0m\u001b[0m\n\u001b[0;32m      8\u001b[0m \u001b[0my\u001b[0m\u001b[1;33m=\u001b[0m\u001b[0mnp\u001b[0m\u001b[1;33m.\u001b[0m\u001b[0marange\u001b[0m\u001b[1;33m(\u001b[0m\u001b[1;36m9\u001b[0m\u001b[1;33m)\u001b[0m\u001b[1;33m.\u001b[0m\u001b[0mreshape\u001b[0m\u001b[1;33m(\u001b[0m\u001b[1;33m(\u001b[0m\u001b[1;36m3\u001b[0m\u001b[1;33m,\u001b[0m\u001b[1;36m3\u001b[0m\u001b[1;33m)\u001b[0m\u001b[1;33m)\u001b[0m\u001b[1;33m\u001b[0m\u001b[0m\n\u001b[1;32m----> 9\u001b[1;33m \u001b[0mz\u001b[0m\u001b[1;33m=\u001b[0m\u001b[0mx\u001b[0m\u001b[1;33m+\u001b[0m\u001b[0my\u001b[0m\u001b[1;33m\u001b[0m\u001b[0m\n\u001b[0m\u001b[0;32m     10\u001b[0m \u001b[1;32mprint\u001b[0m\u001b[1;33m(\u001b[0m\u001b[1;34m\"x.shape:{0}\"\u001b[0m\u001b[1;33m.\u001b[0m\u001b[0mformat\u001b[0m\u001b[1;33m(\u001b[0m\u001b[0mx\u001b[0m\u001b[1;33m.\u001b[0m\u001b[0mshape\u001b[0m\u001b[1;33m)\u001b[0m\u001b[1;33m)\u001b[0m\u001b[1;33m\u001b[0m\u001b[0m\n\u001b[0;32m     11\u001b[0m \u001b[1;32mprint\u001b[0m\u001b[1;33m(\u001b[0m\u001b[1;34m\"\\ny.shape:{0}\"\u001b[0m\u001b[1;33m.\u001b[0m\u001b[0mformat\u001b[0m\u001b[1;33m(\u001b[0m\u001b[0my\u001b[0m\u001b[1;33m.\u001b[0m\u001b[0mshape\u001b[0m\u001b[1;33m)\u001b[0m\u001b[1;33m)\u001b[0m\u001b[1;33m\u001b[0m\u001b[0m\n",
        "\u001b[1;31mValueError\u001b[0m: operands could not be broadcast together with shapes (3,8,3) (3,3) "
       ]
      }
     ],
     "prompt_number": 17
    },
    {
     "cell_type": "heading",
     "level": 4,
     "metadata": {},
     "source": [
      "Exercise"
     ]
    },
    {
     "cell_type": "markdown",
     "metadata": {},
     "source": [
      "* We have the following 2 random matrices:\n",
      "  * A = np.random.random((8,1,8))\n",
      "  * B = np.random.random((8,8,1))<br>\n",
      "    Calculate the matrix Z (8x8) where each element of Z is given by:<br>\n",
      "    $Z_{i,j} = A_{i,1,j} + B_{i,j,1}$"
     ]
    },
    {
     "cell_type": "heading",
     "level": 3,
     "metadata": {},
     "source": [
      "Universal functions in numpy"
     ]
    },
    {
     "cell_type": "markdown",
     "metadata": {},
     "source": [
      "A universal function (ufunc)  $f$ is a function\n",
      "* which takes an array $in$ as input\n",
      "* returns an array $out$ as output <br> \n",
      "  where $out[i]=f(in[i])$\n",
      "\n",
      "If two arrays have different shapes <font color=\"green\"><b>broadcasting</b></font> will be applied<br>\n",
      "The following ufuncs are currently available:<br>\n",
      "http://docs.scipy.org/doc/numpy/reference/ufuncs.html#available-ufuncs\n",
      "\n",
      "This concept is similar to the map function in standard Python."
     ]
    },
    {
     "cell_type": "code",
     "collapsed": false,
     "input": [
      "# Example 1: wo BC\n",
      "x=np.random.random((7,3,14))\n",
      "y=np.exp(x)\n",
      "\n",
      "# Example 2: w. BC\n",
      "x=np.arange(90,103,dtype=int)\n",
      "y=np.arange(2,7,dtype=int).reshape((5,1))\n",
      "print(\" x:{0}\\n{1}\".format(x.shape,x))\n",
      "print(\" y:{0}\\n{1}\".format(y.shape,y))\n",
      "z=np.mod(x,y)\n",
      "print(\" z:{0}\\n{1}\".format(z.shape,z))"
     ],
     "language": "python",
     "metadata": {},
     "outputs": [
      {
       "output_type": "stream",
       "stream": "stdout",
       "text": [
        " x:(13,)\n",
        "[ 90  91  92  93  94  95  96  97  98  99 100 101 102]\n",
        " y:(5, 1)\n",
        "[[2]\n",
        " [3]\n",
        " [4]\n",
        " [5]\n",
        " [6]]\n",
        " z:(5, 13)\n",
        "[[0 1 0 1 0 1 0 1 0 1 0 1 0]\n",
        " [0 1 2 0 1 2 0 1 2 0 1 2 0]\n",
        " [2 3 0 1 2 3 0 1 2 3 0 1 2]\n",
        " [0 1 2 3 4 0 1 2 3 4 0 1 2]\n",
        " [0 1 2 3 4 5 0 1 2 3 4 5 0]]\n"
       ]
      }
     ],
     "prompt_number": 21
    },
    {
     "cell_type": "heading",
     "level": 4,
     "metadata": {},
     "source": [
      "Exercise"
     ]
    },
    {
     "cell_type": "markdown",
     "metadata": {},
     "source": [
      "* In Lecture 1, the following exercise was presented:\n",
      "  * Write a function (module sn.py) to calculate the partial sum <br> \n",
      "    $S_n := \\sum_{k=1}^{k=n}  \\frac{sin(k)}{k^2} $ <br>\n",
      "  * Test your function using the name/main construct\n",
      "  * Write a second module sn_test.py where you use the sn function \n",
      "    to calculate the partial sums for n=10, 20, 30, ..., 500\n",
      "    \n",
      "* Write the same code in numpy using a universal function. \n",
      "* Compare the timings: regular python vs. the numpy implementation\n",
      "* Make a plot $S_n=f(n)$ using matplotlib "
     ]
    },
    {
     "cell_type": "markdown",
     "metadata": {},
     "source": [
      "<b>What else to discuss?</b>\n",
      "* C/Fortan ordering\n",
      "* cast function\n",
      "* view/copy\n",
      "* masked arrays\n",
      "* matrix2D\n",
      "* IO in numpy\n",
      "* Complex structured array\n",
      "* basic linear algebra\n",
      "* introduction to scipy \n",
      "* matplotlib"
     ]
    }
   ],
   "metadata": {}
  }
 ]
}