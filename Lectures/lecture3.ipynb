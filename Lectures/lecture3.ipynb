{
 "metadata": {
  "name": "",
  "signature": "sha256:e724362843c82aec205c51b09c2a59bccc451a6e1c8a7161b1228590d27cc5cf"
 },
 "nbformat": 3,
 "nbformat_minor": 0,
 "worksheets": [
  {
   "cells": [
    {
     "cell_type": "heading",
     "level": 2,
     "metadata": {},
     "source": [
      "Why go beyond regular python for scientific applications?"
     ]
    },
    {
     "cell_type": "markdown",
     "metadata": {},
     "source": [
      "* Traditional Python list can contain object of whatever type\n",
      "  * Pro: Very flexible\n",
      "  * Con: Slow \n",
      "* In scientific applications, we have arrays of a well-defined type (e.g. int, float, double)\n",
      "* To speed up => introduction of numpy "
     ]
    },
    {
     "cell_type": "heading",
     "level": 3,
     "metadata": {},
     "source": [
      "Simple test:"
     ]
    },
    {
     "cell_type": "code",
     "collapsed": false,
     "input": [
      "SZ=10000"
     ],
     "language": "python",
     "metadata": {},
     "outputs": [],
     "prompt_number": 27
    },
    {
     "cell_type": "code",
     "collapsed": false,
     "input": [
      "%timeit [item**2 for item in range(SZ)]"
     ],
     "language": "python",
     "metadata": {},
     "outputs": [
      {
       "output_type": "stream",
       "stream": "stdout",
       "text": [
        "10 loops, best of 3: 21.2 ms per loop\n"
       ]
      }
     ],
     "prompt_number": 26
    },
    {
     "cell_type": "code",
     "collapsed": false,
     "input": [
      "import numpy as np\n",
      "%timeit np.arange(SZ)**2"
     ],
     "language": "python",
     "metadata": {},
     "outputs": [
      {
       "output_type": "stream",
       "stream": "stdout",
       "text": [
        "10000 loops, best of 3: 36.5 \u00b5s per loop\n"
       ]
      }
     ],
     "prompt_number": 28
    },
    {
     "cell_type": "heading",
     "level": 2,
     "metadata": {},
     "source": [
      "What is numpy?"
     ]
    },
    {
     "cell_type": "markdown",
     "metadata": {},
     "source": [
      "* based on a multidimensional array object i.e. ndarray \n",
      "* relies on mathematical libraries in Fortran (blas, lapack) and C (fft) => enhances speed\n",
      "* numpy forms the building block of most python based scientific packages, such as:\n",
      "  * scipy: scientific routines on top of numpy\n",
      "  * matplotlib: 2D plotting \n",
      "  * pandas: data structure & analysis\n",
      "  * sympy: symbolic mathematics"
     ]
    },
    {
     "cell_type": "heading",
     "level": 2,
     "metadata": {},
     "source": [
      "Creation of arrays"
     ]
    },
    {
     "cell_type": "heading",
     "level": 3,
     "metadata": {},
     "source": [
      "1D array:"
     ]
    },
    {
     "cell_type": "code",
     "collapsed": false,
     "input": [
      "import numpy as np\n",
      "# There are several possibilities\n",
      "a=np.array(range(10))       # starting from a python list\n",
      "print(\"a:{0}\".format(a))\n",
      "\n",
      "b=np.arange(10)             # using the arange function\n",
      "print(\"b:{0}\".format(b))\n",
      "\n",
      "c=np.arange(0.,1.0,0.1)     # Can also be used with FLOATS!\n",
      "print(\"c:{0}\".format(c))\n",
      "\n",
      "d=np.linspace(0,1,11)       # [0,1] with equidistant intervals\n",
      "print(\"d:{0}\".format(d))\n",
      "\n",
      "e=np.linspace(0,1,10,endpoint=False) # [0,1[ with equidistant intervals\n",
      "print(\"e:{0}\".format(e))"
     ],
     "language": "python",
     "metadata": {},
     "outputs": [
      {
       "output_type": "stream",
       "stream": "stdout",
       "text": [
        "a:[0 1 2 3 4 5 6 7 8 9]\n",
        "b:[0 1 2 3 4 5 6 7 8 9]\n",
        "c:[ 0.   0.1  0.2  0.3  0.4  0.5  0.6  0.7  0.8  0.9]\n",
        "d:[ 0.   0.1  0.2  0.3  0.4  0.5  0.6  0.7  0.8  0.9  1. ]\n",
        "e:[ 0.   0.1  0.2  0.3  0.4  0.5  0.6  0.7  0.8  0.9]\n",
        "f:[0 1 2 3 4 5 6 7 8 9]\n"
       ]
      }
     ],
     "prompt_number": 14
    },
    {
     "cell_type": "heading",
     "level": 3,
     "metadata": {},
     "source": [
      "Multi dimensional array:"
     ]
    },
    {
     "cell_type": "code",
     "collapsed": false,
     "input": [
      "import numpy as np\n",
      "a=np.array([[1,2,3,4],[5,6,7,8],[9,10,11,12]])\n",
      "print(\"a:{0}\".format(a))\n",
      "\n",
      "b=np.arange(1,13).reshape(3,4)\n",
      "print(\"b:{0}\".format(b))\n",
      "\n",
      "# Meshgrid -> useful to make surfaces/(plots)\n",
      "x=np.arange(-8, 8, 0.25)\n",
      "y=np.arange(-8,8, 0.25) \n",
      "EPS=1.0E-4\n",
      "xc,yc=np.meshgrid(x,y)\n",
      "print(\"x: dim:{0} -> {1}\".format(x.shape,x))\n",
      "print(\"y: dim:{0} -> {1}\".format(y.shape,y))\n",
      "r = np.sqrt(xc**2 + yc**2) + EPS\n",
      "zc = np.sin(r)/r\n",
      "\n",
      "from mpl_toolkits.mplot3d import Axes3D\n",
      "from matplotlib import cm\n",
      "from matplotlib.ticker import LinearLocator, FormatStrFormatter\n",
      "import matplotlib.pyplot as plt\n",
      "import numpy as np\n",
      "\n",
      "fig = plt.figure()\n",
      "ax = fig.gca(projection='3d')\n",
      "surf = ax.plot_surface(xc, yc, zc, rstride=1, cstride=1,cmap=cm.spectral_r,\n",
      "        linewidth=0, antialiased=False)\n",
      "ax.set_zlim(-0.1, 1.00)\n",
      "\n",
      "ax.zaxis.set_major_locator(LinearLocator(10))\n",
      "ax.zaxis.set_major_formatter(FormatStrFormatter('%.02f'))\n",
      "\n",
      "plt.show()"
     ],
     "language": "python",
     "metadata": {},
     "outputs": [
      {
       "output_type": "stream",
       "stream": "stdout",
       "text": [
        "a:[[ 1  2  3  4]\n",
        " [ 5  6  7  8]\n",
        " [ 9 10 11 12]]\n",
        "b:[[ 1  2  3  4]\n",
        " [ 5  6  7  8]\n",
        " [ 9 10 11 12]]\n",
        "x: dim:(64,) -> [-8.   -7.75 -7.5  -7.25 -7.   -6.75 -6.5  -6.25 -6.   -5.75 -5.5  -5.25\n",
        " -5.   -4.75 -4.5  -4.25 -4.   -3.75 -3.5  -3.25 -3.   -2.75 -2.5  -2.25\n",
        " -2.   -1.75 -1.5  -1.25 -1.   -0.75 -0.5  -0.25  0.    0.25  0.5   0.75\n",
        "  1.    1.25  1.5   1.75  2.    2.25  2.5   2.75  3.    3.25  3.5   3.75\n",
        "  4.    4.25  4.5   4.75  5.    5.25  5.5   5.75  6.    6.25  6.5   6.75\n",
        "  7.    7.25  7.5   7.75]\n",
        "y: dim:(64,) -> [-8.   -7.75 -7.5  -7.25 -7.   -6.75 -6.5  -6.25 -6.   -5.75 -5.5  -5.25\n",
        " -5.   -4.75 -4.5  -4.25 -4.   -3.75 -3.5  -3.25 -3.   -2.75 -2.5  -2.25\n",
        " -2.   -1.75 -1.5  -1.25 -1.   -0.75 -0.5  -0.25  0.    0.25  0.5   0.75\n",
        "  1.    1.25  1.5   1.75  2.    2.25  2.5   2.75  3.    3.25  3.5   3.75\n",
        "  4.    4.25  4.5   4.75  5.    5.25  5.5   5.75  6.    6.25  6.5   6.75\n",
        "  7.    7.25  7.5   7.75]\n"
       ]
      }
     ],
     "prompt_number": 21
    },
    {
     "cell_type": "heading",
     "level": 3,
     "metadata": {},
     "source": [
      "How to find properties of an array?"
     ]
    },
    {
     "cell_type": "markdown",
     "metadata": {},
     "source": [
      "* reshape: change the shape of the array\n",
      "* ndim: dimensionality of the array (#axes)\n",
      "* shape: dimensions of the array\n",
      "* dtype: type of the elements\n",
      "* itemsize: memory occupied by 1 element"
     ]
    },
    {
     "cell_type": "code",
     "collapsed": false,
     "input": [
      "a=np.arange(30).reshape(2,3,5)\n",
      "print(\"a:{0}\".format(a))\n",
      "# ndim, shape, size dtype, dtype.name\n",
      "print(\"a.ndim:'{0}'\".format(a.ndim))\n",
      "print(\"a.shape:'{0}'\".format(a.shape))\n",
      "print(\"a.dtype:'{0}'\".format(a.dtype))\n",
      "print(\"a.itemsize:'{0}'\".format(a.itemsize))"
     ],
     "language": "python",
     "metadata": {},
     "outputs": [
      {
       "output_type": "stream",
       "stream": "stdout",
       "text": [
        "a:[[[ 0  1  2  3  4]\n",
        "  [ 5  6  7  8  9]\n",
        "  [10 11 12 13 14]]\n",
        "\n",
        " [[15 16 17 18 19]\n",
        "  [20 21 22 23 24]\n",
        "  [25 26 27 28 29]]]\n",
        "a.ndim:'3'\n",
        "a.shape:'(2, 3, 5)'\n",
        "a.dtype:'int64'\n",
        "a.itemsize:'8'\n"
       ]
      }
     ],
     "prompt_number": 25
    },
    {
     "cell_type": "heading",
     "level": 3,
     "metadata": {},
     "source": [
      "Create special arrays (form & types)"
     ]
    },
    {
     "cell_type": "markdown",
     "metadata": {},
     "source": [
      "Numpy support several types e.g.:\n",
      "* int8, int16 int32, int64\n",
      "* uint8, uint16, uint32, uint64\n",
      "* float16, float32, float64\n",
      "* complex64, complex128 \n",
      "* ...\n",
      "For all the data types supported by numpy, see:<br>\n",
      "here comes a link"
     ]
    },
    {
     "cell_type": "code",
     "collapsed": false,
     "input": [
      "# Assign arrays with a certain type\n",
      "i1=np.arange(10,dtype='int32')\n",
      "print(i1)\n",
      "print(i1.dtype)\n",
      "print(i1.itemsize)\n",
      "i2=np.arange(10,dtype='int64')\n",
      "print(i2)\n",
      "print(i2.dtype)\n",
      "print(i2.itemsize)\n",
      "\n",
      "i3=np.arange(10) # Default\n",
      "print(i3)\n",
      "print(i3.dtype)\n",
      "print(i3.itemsize)\n",
      "\n",
      "z1=np.arange(10,dtype='complex128')\n",
      "print(z1)\n",
      "print(z1.itemsize)\n",
      "\n",
      "# Change type of an array (cast function)\n",
      "i4=i3.astype(dtype='float')\n",
      "print(i4)\n",
      "print(i4.dtype)\n",
      "print(i4.itemsize)\n"
     ],
     "language": "python",
     "metadata": {},
     "outputs": [
      {
       "output_type": "stream",
       "stream": "stdout",
       "text": [
        "[0 1 2 3 4 5 6 7 8 9]\n",
        "int32\n",
        "4\n",
        "[0 1 2 3 4 5 6 7 8 9]\n",
        "int64\n",
        "8\n",
        "[0 1 2 3 4 5 6 7 8 9]\n",
        "int64\n",
        "8\n",
        "[ 0.+0.j  1.+0.j  2.+0.j  3.+0.j  4.+0.j  5.+0.j  6.+0.j  7.+0.j  8.+0.j\n",
        "  9.+0.j]\n",
        "16\n",
        "[ 0.  1.  2.  3.  4.  5.  6.  7.  8.  9.]\n",
        "float64\n",
        "8\n"
       ]
      }
     ],
     "prompt_number": 53
    },
    {
     "cell_type": "markdown",
     "metadata": {},
     "source": [
      "Numpy supports several types of initializations:\n",
      "* zeros\n",
      "* one\n",
      "* eye\n",
      "* diag\n",
      "* fromfunction"
     ]
    },
    {
     "cell_type": "code",
     "collapsed": false,
     "input": [
      "a1=np.zeros((4,5),dtype='float64')\n",
      "print(\"a1:\\n{0}\".format(a1))\n",
      "a2=np.ones((2,7),dtype='int64')\n",
      "print(\"a2:\\n{0}\".format(a2))\n",
      "a3=np.eye(5,dtype='float64')\n",
      "print(\"a3:\\n{0}\".format(a3))\n",
      "a4=np.diag(np.arange(1,7,dtype='int32'))\n",
      "print(\"a4:\\n{0}\".format(a4))\n",
      "a5=np.fromfunction(lambda x,y: x+2*y,(2,5),dtype='float64')\n",
      "print(\"a5:\\n{0}\".format(a5))\n",
      "print(help(np.fromfunction))"
     ],
     "language": "python",
     "metadata": {},
     "outputs": [
      {
       "output_type": "stream",
       "stream": "stdout",
       "text": [
        "a1:\n",
        "[[ 0.  0.  0.  0.  0.]\n",
        " [ 0.  0.  0.  0.  0.]\n",
        " [ 0.  0.  0.  0.  0.]\n",
        " [ 0.  0.  0.  0.  0.]]\n",
        "a2:\n",
        "[[1 1 1 1 1 1 1]\n",
        " [1 1 1 1 1 1 1]]\n",
        "a3:\n",
        "[[ 1.  0.  0.  0.  0.]\n",
        " [ 0.  1.  0.  0.  0.]\n",
        " [ 0.  0.  1.  0.  0.]\n",
        " [ 0.  0.  0.  1.  0.]\n",
        " [ 0.  0.  0.  0.  1.]]\n",
        "a4:\n",
        "[[1 0 0 0 0 0]\n",
        " [0 2 0 0 0 0]\n",
        " [0 0 3 0 0 0]\n",
        " [0 0 0 4 0 0]\n",
        " [0 0 0 0 5 0]\n",
        " [0 0 0 0 0 6]]\n",
        "a5:\n",
        "[[ 0.  2.  4.  6.  8.]\n",
        " [ 1.  3.  5.  7.  9.]]\n",
        "Help on function fromfunction in module numpy.core.numeric:\n",
        "\n",
        "fromfunction(function, shape, **kwargs)\n",
        "    Construct an array by executing a function over each coordinate.\n",
        "    \n",
        "    The resulting array therefore has a value ``fn(x, y, z)`` at\n",
        "    coordinate ``(x, y, z)``.\n",
        "    \n",
        "    Parameters\n",
        "    ----------\n",
        "    function : callable\n",
        "        The function is called with N parameters, where N is the rank of\n",
        "        `shape`.  Each parameter represents the coordinates of the array\n",
        "        varying along a specific axis.  For example, if `shape`\n",
        "        were ``(2, 2)``, then the parameters in turn be (0, 0), (0, 1),\n",
        "        (1, 0), (1, 1).\n",
        "    shape : (N,) tuple of ints\n",
        "        Shape of the output array, which also determines the shape of\n",
        "        the coordinate arrays passed to `function`.\n",
        "    dtype : data-type, optional\n",
        "        Data-type of the coordinate arrays passed to `function`.\n",
        "        By default, `dtype` is float.\n",
        "    \n",
        "    Returns\n",
        "    -------\n",
        "    fromfunction : any\n",
        "        The result of the call to `function` is passed back directly.\n",
        "        Therefore the shape of `fromfunction` is completely determined by\n",
        "        `function`.  If `function` returns a scalar value, the shape of\n",
        "        `fromfunction` would match the `shape` parameter.\n",
        "    \n",
        "    See Also\n",
        "    --------\n",
        "    indices, meshgrid\n",
        "    \n",
        "    Notes\n",
        "    -----\n",
        "    Keywords other than `dtype` are passed to `function`.\n",
        "    \n",
        "    Examples\n",
        "    --------\n",
        "    >>> np.fromfunction(lambda i, j: i == j, (3, 3), dtype=int)\n",
        "    array([[ True, False, False],\n",
        "           [False,  True, False],\n",
        "           [False, False,  True]], dtype=bool)\n",
        "    \n",
        "    >>> np.fromfunction(lambda i, j: i + j, (3, 3), dtype=int)\n",
        "    array([[0, 1, 2],\n",
        "           [1, 2, 3],\n",
        "           [2, 3, 4]])\n",
        "\n",
        "None\n"
       ]
      }
     ],
     "prompt_number": 51
    },
    {
     "cell_type": "markdown",
     "metadata": {},
     "source": [
      "Exercises:\n",
      "* Create a banded matrix of the following matrix. Make sure that all the elements are of the type double complex\n",
      "* check out np.empty "
     ]
    },
    {
     "cell_type": "code",
     "collapsed": false,
     "input": [
      "What else to do?\n",
      "* basic operations *,/,+  dot \n",
      "* universal functions\n",
      "* indexing and slicing\n",
      "* view/copy\n",
      "* broadcasting\n",
      "* masked arrays\n",
      "* matrix2D\n"
     ],
     "language": "python",
     "metadata": {},
     "outputs": []
    }
   ],
   "metadata": {}
  }
 ]
}