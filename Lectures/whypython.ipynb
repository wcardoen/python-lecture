{
 "metadata": {
  "name": "",
  "signature": "sha256:9ce0070b3164ac9c54f11def5ad552f882887a017be61e6ab956543d4257d755"
 },
 "nbformat": 3,
 "nbformat_minor": 0,
 "worksheets": [
  {
   "cells": [
    {
     "cell_type": "heading",
     "level": 1,
     "metadata": {},
     "source": [
      "Introduction to Python"
     ]
    },
    {
     "cell_type": "heading",
     "level": 2,
     "metadata": {},
     "source": [
      "General considerations"
     ]
    },
    {
     "cell_type": "markdown",
     "metadata": {},
     "source": [
      "* Developed by Guidio van Rossum (1991)\n",
      "* Python: interpreted language vs. C, C++, Fortan, .... (compiled languages)\n",
      "* Easy to learn \n",
      "* Allows fast developement\n",
      "* Portable code: Linux, MacOS and Windows\n",
      "* Uses <font color=\"green\"><b>identation</b></font> instead of curly braces \n",
      "- Do <font color=\"red\"><b>NOT</b></font> mix whitespaces and TAB characters\n",
      "* Like C and C++, Python is case sensitive\n",
      "* [PEP 8](http://legacy.python.org/dev/peps/pep-0008/) -- Style Guide for Python Code"
     ]
    },
    {
     "cell_type": "heading",
     "level": 3,
     "metadata": {},
     "source": [
      "Example: C code vs Python code"
     ]
    },
    {
     "cell_type": "heading",
     "level": 4,
     "metadata": {},
     "source": [
      "C code"
     ]
    },
    {
     "cell_type": "code",
     "collapsed": false,
     "input": [
      "%%file square_root.c\n",
      "/* C example */\n",
      "#include <stdio.h>\n",
      "#include <math.h>\n",
      "\n",
      "int main(void)\n",
      "{\n",
      "    double x=17.0;\n",
      "    printf(\"C code::\\n\");\n",
      "    printf(\"The square root of %8.4lf is %12.6lf\\n\", x, sqrt(x));\n",
      "    return 0;\n",
      "}"
     ],
     "language": "python",
     "metadata": {},
     "outputs": [
      {
       "output_type": "stream",
       "stream": "stdout",
       "text": [
        "Writing square_root.c\n"
       ]
      }
     ],
     "prompt_number": 1
    },
    {
     "cell_type": "markdown",
     "metadata": {},
     "source": [
      "<font color=\"red\"><b>Compilation</b></font> of the C code => object file square_root.o"
     ]
    },
    {
     "cell_type": "code",
     "collapsed": false,
     "input": [
      "!gcc -c square_root.c"
     ],
     "language": "python",
     "metadata": {},
     "outputs": [],
     "prompt_number": 2
    },
    {
     "cell_type": "markdown",
     "metadata": {},
     "source": [
      "<font color=\"red\"><b>Linking</b></font> the object files with the libraries on the system => square_root_c"
     ]
    },
    {
     "cell_type": "code",
     "collapsed": false,
     "input": [
      "!gcc -o square_root_c square_root.o -lm"
     ],
     "language": "python",
     "metadata": {},
     "outputs": [],
     "prompt_number": 3
    },
    {
     "cell_type": "markdown",
     "metadata": {},
     "source": [
      "<font color=\"red\"><b>Running</b></font> the executable"
     ]
    },
    {
     "cell_type": "code",
     "collapsed": false,
     "input": [
      "!./square_root_c"
     ],
     "language": "python",
     "metadata": {},
     "outputs": [
      {
       "output_type": "stream",
       "stream": "stdout",
       "text": [
        "C code::\r\n",
        "The square root of  17.0000 is     4.123106\r\n"
       ]
      }
     ],
     "prompt_number": 4
    },
    {
     "cell_type": "heading",
     "level": 4,
     "metadata": {},
     "source": [
      "Fortran code"
     ]
    },
    {
     "cell_type": "code",
     "collapsed": false,
     "input": [
      "%%file square_root.f90\n",
      "! Fortran example\n",
      "program main\n",
      "\n",
      "    implicit none\n",
      "    double precision :: x = 17.0\n",
      "\n",
      "    write(*,'(A,F8.4,A,F12.6)') \"The square root of \", x, \" is \", sqrt(x)\n",
      "\n",
      "end program     "
     ],
     "language": "python",
     "metadata": {},
     "outputs": [
      {
       "output_type": "stream",
       "stream": "stdout",
       "text": [
        "Overwriting square_root.f90\n"
       ]
      }
     ],
     "prompt_number": 27
    },
    {
     "cell_type": "code",
     "collapsed": false,
     "input": [
      "!gfortran -c square_root.f90\n",
      "!gfortran -o square_root_f square_root.o"
     ],
     "language": "python",
     "metadata": {},
     "outputs": [],
     "prompt_number": 18
    },
    {
     "cell_type": "markdown",
     "metadata": {},
     "source": [
      "<font color=\"red\"><b>Running</b></font> the Fortran executable"
     ]
    },
    {
     "cell_type": "code",
     "collapsed": false,
     "input": [
      "!./square_root_f"
     ],
     "language": "python",
     "metadata": {},
     "outputs": [
      {
       "output_type": "stream",
       "stream": "stdout",
       "text": [
        "The square root of  17.0000 is     4.123106\r\n"
       ]
      }
     ],
     "prompt_number": 20
    },
    {
     "cell_type": "heading",
     "level": 4,
     "metadata": {},
     "source": [
      "Python code"
     ]
    },
    {
     "cell_type": "code",
     "collapsed": false,
     "input": [
      "# Corresponding python snippet\n",
      "import math as m\n",
      "x=17.0\n",
      "print(\"The square root of {0:8.4f} is {1:12.6f}\".format(x,m.sqrt(x)))"
     ],
     "language": "python",
     "metadata": {},
     "outputs": [
      {
       "output_type": "stream",
       "stream": "stdout",
       "text": [
        "The square root of  17.0000 is     4.123106\n"
       ]
      }
     ],
     "prompt_number": 28
    }
   ],
   "metadata": {}
  }
 ]
}