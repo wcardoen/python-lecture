{
 "metadata": {
  "name": "",
  "signature": "sha256:70726860e1439e88792b0e21c8adc60280e4e1e29b1bff0747b6e643c1cc1314"
 },
 "nbformat": 3,
 "nbformat_minor": 0,
 "worksheets": [
  {
   "cells": [
    {
     "cell_type": "heading",
     "level": 2,
     "metadata": {},
     "source": [
      "Input/Output"
     ]
    },
    {
     "cell_type": "markdown",
     "metadata": {},
     "source": [
      "* Reading from/writing on screen\n",
      "* Reading from/writing from file"
     ]
    },
    {
     "cell_type": "heading",
     "level": 3,
     "metadata": {},
     "source": [
      "Reading from/writing into a text file:"
     ]
    },
    {
     "cell_type": "code",
     "collapsed": false,
     "input": [
      "# Example 1: Reading from screen using raw_input (Python 2 syntax)\n",
      "s=raw_input(\"Give a number:\")\n",
      "print(\"The type of s:'{0}'\".format(type(s)))\n",
      "# In order to use the string as number -> convert\n",
      "x=int(s)\n",
      "print(\"The number is:{0}\".format(x))"
     ],
     "language": "python",
     "metadata": {},
     "outputs": [
      {
       "name": "stdout",
       "output_type": "stream",
       "stream": "stdout",
       "text": [
        "Give a number:456\n"
       ]
      },
      {
       "output_type": "stream",
       "stream": "stdout",
       "text": [
        "The type of s:'<type 'str'>'\n",
        "The number is:456\n"
       ]
      }
     ],
     "prompt_number": 16
    },
    {
     "cell_type": "code",
     "collapsed": false,
     "input": [
      "# Example 2: Reading from screen using the input (Python 3 syntax)\n",
      "#            Can be used in Python 2.7!!!\n",
      "s=input(\"Give a number:\")\n",
      "print(\"The type of s:'{0}'\".format(type(s)))\n",
      "print(\"The number is:{0}\".format(x))"
     ],
     "language": "python",
     "metadata": {},
     "outputs": [
      {
       "name": "stdout",
       "output_type": "stream",
       "stream": "stdout",
       "text": [
        "Give a number:234\n"
       ]
      },
      {
       "output_type": "stream",
       "stream": "stdout",
       "text": [
        "The type of s:'<type 'int'>'\n"
       ]
      }
     ],
     "prompt_number": 17
    },
    {
     "cell_type": "markdown",
     "metadata": {},
     "source": [
      "Reading lines from the screen (use an xterm)\n",
      "* sys.stdin.readline()   ... Reading 1 line\n",
      "* sys.stdin.readlines()  ... Reading n lines (Stop by hitting CTRL-D  - CTRL-Z (Windows))\n",
      "\n",
      "The resulting lines are stored in a list."
     ]
    },
    {
     "cell_type": "code",
     "collapsed": false,
     "input": [
      "# Example 3: Read a line from the terminal (tty)\n",
      "# ONE LINE\n",
      "# import sys\n",
      "# s1=sys.stdin.readline()\n",
      "# s1\n",
      "#\n",
      "# import sys\n",
      "# sp=sys.stdin.readlines()   # End the input with CTRL-D   (CTRL-Z on Windows)\n",
      "# sp"
     ],
     "language": "python",
     "metadata": {},
     "outputs": [],
     "prompt_number": 20
    },
    {
     "cell_type": "markdown",
     "metadata": {},
     "source": [
      "Access read/write data/to from file\n",
      "* Open file \n",
      "* Read/write\n",
      "* Close file"
     ]
    },
    {
     "cell_type": "code",
     "collapsed": false,
     "input": [
      "# Example 4: Read text file from disk\n",
      "import sys\n",
      "filename='../DataFiles/thisland.txt'\n",
      "try:\n",
      "    f=open(filename,'r')\n",
      "    arr=f.readlines()\n",
      "    f.close()\n",
      "except IOError:\n",
      "    print(\"The file '{0}' can not be read\".format(filename))\n",
      "    sys.exit()\n",
      "    \n",
      "print(\"The content of the file (from Woody Guthrie's 'This Land is your Land'):\")\n",
      "print(arr)\n",
      "\n",
      "print(\"\\nNicer output:\")\n",
      "for line in arr:\n",
      "    print line,\n",
      "    \n"
     ],
     "language": "python",
     "metadata": {},
     "outputs": [
      {
       "output_type": "stream",
       "stream": "stdout",
       "text": [
        "The content of the file (from Woody Guthrie's 'This Land is your Land'):\n",
        "['As I went walking I saw a sign there\\n', 'And on the sign it said \"No Trespassing.\"\\n', \"But on the other side it didn't say nothing,\\n\", 'That side was made for you and me.\\n', '\\n', 'In the shadow of the steeple I saw my people,\\n', 'By the relief office I seen my people;\\n', 'As they stood there hungry, I stood there asking\\n', 'Is this land made for you and me?\\n']\n",
        "\n",
        "Nicer output:\n",
        "As I went walking I saw a sign there\n",
        "And on the sign it said \"No Trespassing.\"\n",
        "But on the other side it didn't say nothing,\n",
        "That side was made for you and me.\n",
        "\n",
        "In the shadow of the steeple I saw my people,\n",
        "By the relief office I seen my people;\n",
        "As they stood there hungry, I stood there asking\n",
        "Is this land made for you and me?\n"
       ]
      }
     ],
     "prompt_number": 14
    },
    {
     "cell_type": "markdown",
     "metadata": {},
     "source": [
      "<font color=\"red\"><b>NOTE</b></font>\n",
      "* To read 1 line at a time use the 'readline' method"
     ]
    },
    {
     "cell_type": "code",
     "collapsed": false,
     "input": [
      "# Example 5: Write text to file\n",
      "import sys\n",
      "filename='../Output/output.txt'\n",
      "try:\n",
      "    f=open(filename,'w')\n",
      "    f.write(\"This is the first line\\n\")\n",
      "    f.write(\"This is the second line\\n\")\n",
      "    f.close()\n",
      "except IOError:\n",
      "    print(\"The file '{0}' can not be opened\".format(filename))\n",
      "    sys.exit()\n",
      "    \n",
      "# Read the data from file (to check)     \n",
      "f=open(filename)\n",
      "for line in f.readlines():\n",
      "    print line,\n",
      "f.close()    "
     ],
     "language": "python",
     "metadata": {},
     "outputs": [
      {
       "output_type": "stream",
       "stream": "stdout",
       "text": [
        "This is the first line\n",
        "This is the second line\n"
       ]
      }
     ],
     "prompt_number": 2
    },
    {
     "cell_type": "heading",
     "level": 3,
     "metadata": {},
     "source": [
      "Writing/Reading binary data to & from file"
     ]
    },
    {
     "cell_type": "markdown",
     "metadata": {},
     "source": [
      "This issue will be addressed later on in the numpy module"
     ]
    },
    {
     "cell_type": "heading",
     "level": 3,
     "metadata": {},
     "source": [
      "Pickle module in python"
     ]
    },
    {
     "cell_type": "markdown",
     "metadata": {},
     "source": [
      "The python pickle module allows you to serialize and de-serialize python objects.\n",
      "* picking (serialization): conversion of python objects into a stream of bytes\n",
      "* unpickling (deserialization): conversion of a byte stream into python objects"
     ]
    },
    {
     "cell_type": "code",
     "collapsed": false,
     "input": [
      "# Dump data into file\n",
      "import pickle\n",
      "\n",
      "# Write data to file\n",
      "f = open(\"../Output/trial.pkl\", \"w\")\n",
      "pickle.dump(range(10),f)\n",
      "pickle.dump({'a':\"pickle\",'b':\"example\"}, f)\n",
      "f.close()"
     ],
     "language": "python",
     "metadata": {},
     "outputs": [],
     "prompt_number": 3
    },
    {
     "cell_type": "code",
     "collapsed": false,
     "input": [
      "# Load data into objects\n",
      "import pickle\n",
      "\n",
      "f = open(\"../Output/trial.pkl\", \"rb\")\n",
      "value1 = pickle.load(f)\n",
      "value2 = pickle.load(f)\n",
      "f.close()\n",
      "print(\"Recovering data from a pickled file\")\n",
      "print(\"  value1:'{0}'\".format(value1))\n",
      "print(\"  value2:'{0}'\".format(value2))"
     ],
     "language": "python",
     "metadata": {},
     "outputs": [
      {
       "output_type": "stream",
       "stream": "stdout",
       "text": [
        "Recovering data from a pickled file\n",
        "  value1:'[0, 1, 2, 3, 4, 5, 6, 7, 8, 9]'\n",
        "  value2:'{'a': 'pickle', 'b': 'example'}'\n"
       ]
      }
     ],
     "prompt_number": 4
    },
    {
     "cell_type": "heading",
     "level": 2,
     "metadata": {},
     "source": [
      "More Advanced Data Types"
     ]
    },
    {
     "cell_type": "markdown",
     "metadata": {},
     "source": [
      "The Python Data objects can be divided into:\n",
      "* <font color=\"red\"><b>Immutable</b></font> objects\n",
      "* <font color=\"green\"><b>Mutable</b></font> objects\n",
      "    \n",
      "<b>Immutable objects:</b>\n",
      "* <font color=\"red\"><b>string</b></font>\n",
      "* <font color=\"red\"><b>tuple</b></font>\n",
      "* <font color=\"red\"><b>frozen set</b></font>\n",
      "* <font color=\"red\"><b>(integer, float, complex)</b></font>\n",
      "\n",
      "<b>Mutable objects:</b>\n",
      "* <font color=\"green\"><b>list</b></font>\n",
      "* <font color=\"green\"><b>set</b></font>\n",
      "* <font color=\"green\"><b>dict</b></font>"
     ]
    },
    {
     "cell_type": "heading",
     "level": 3,
     "metadata": {},
     "source": [
      "Lists"
     ]
    },
    {
     "cell_type": "markdown",
     "metadata": {},
     "source": [
      "<b>List := An mutable array of objects</b><br>\n",
      "Note:\n",
      "* C++/C/Fortran/Java,.. : All elements of the array <font color=\"red\">must be of the same type</font>\n",
      "* Python: Elements can be of whatever type "
     ]
    },
    {
     "cell_type": "code",
     "collapsed": false,
     "input": [
      "a=[1,4,3,7,5]\n",
      "print(a)\n",
      "a.append(13)\n",
      "print(a)\n",
      "a.insert(2,23)\n",
      "print(a)\n",
      "a.remove(13)\n",
      "print(a)\n",
      "a.remove(77)"
     ],
     "language": "python",
     "metadata": {},
     "outputs": [
      {
       "output_type": "stream",
       "stream": "stdout",
       "text": [
        "[1, 4, 3, 7, 5]\n",
        "[1, 4, 3, 7, 5, 13]\n",
        "[1, 4, 23, 3, 7, 5, 13]\n",
        "[1, 4, 23, 3, 7, 5]\n"
       ]
      },
      {
       "ename": "ValueError",
       "evalue": "list.remove(x): x not in list",
       "output_type": "pyerr",
       "traceback": [
        "\u001b[1;31m---------------------------------------------------------------------------\u001b[0m\n\u001b[1;31mValueError\u001b[0m                                Traceback (most recent call last)",
        "\u001b[1;32m<ipython-input-1-22ca067f1e22>\u001b[0m in \u001b[0;36m<module>\u001b[1;34m()\u001b[0m\n\u001b[0;32m      7\u001b[0m \u001b[0ma\u001b[0m\u001b[1;33m.\u001b[0m\u001b[0mremove\u001b[0m\u001b[1;33m(\u001b[0m\u001b[1;36m13\u001b[0m\u001b[1;33m)\u001b[0m\u001b[1;33m\u001b[0m\u001b[0m\n\u001b[0;32m      8\u001b[0m \u001b[1;32mprint\u001b[0m\u001b[1;33m(\u001b[0m\u001b[0ma\u001b[0m\u001b[1;33m)\u001b[0m\u001b[1;33m\u001b[0m\u001b[0m\n\u001b[1;32m----> 9\u001b[1;33m \u001b[0ma\u001b[0m\u001b[1;33m.\u001b[0m\u001b[0mremove\u001b[0m\u001b[1;33m(\u001b[0m\u001b[1;36m77\u001b[0m\u001b[1;33m)\u001b[0m\u001b[1;33m\u001b[0m\u001b[0m\n\u001b[0m",
        "\u001b[1;31mValueError\u001b[0m: list.remove(x): x not in list"
       ]
      }
     ],
     "prompt_number": 1
    },
    {
     "cell_type": "heading",
     "level": 4,
     "metadata": {},
     "source": [
      "How to avoid the error? Catch it!"
     ]
    },
    {
     "cell_type": "code",
     "collapsed": false,
     "input": [
      "print(a)\n",
      "try:\n",
      "    print(\"Let's get rid of 77\")\n",
      "    a.remove(77)\n",
      "except ValueError:\n",
      "    print(\"77 is not in the list but we caught the error\")"
     ],
     "language": "python",
     "metadata": {},
     "outputs": [
      {
       "output_type": "stream",
       "stream": "stdout",
       "text": [
        "Let's get rid of 77\n",
        "77 is not in the list but we caught the error\n"
       ]
      }
     ],
     "prompt_number": 21
    },
    {
     "cell_type": "code",
     "collapsed": false,
     "input": [
      "b=['hello',5,13+2j,17,'19']\n",
      "print(b.index(17))\n",
      "print(b.index('19'))\n",
      "b.reverse()\n",
      "print(b)\n",
      "print(\"we have {0:d} elements in b\".format(len(b)))\n",
      "\n",
      "# Loop over list\n",
      "# First version\n",
      "for x in b:\n",
      "    print(\"{0}\".format(x))\n",
      "    \n",
      "# Second version    \n",
      "for i in range(len(b)):\n",
      "    print(\"{0}\".format(b[i]))"
     ],
     "language": "python",
     "metadata": {},
     "outputs": [
      {
       "output_type": "stream",
       "stream": "stdout",
       "text": [
        "3\n",
        "4\n",
        "['19', 17, (13+2j), 5, 'hello']\n",
        "we have 5 elements in b\n",
        "19\n",
        "17\n",
        "(13+2j)\n",
        "5\n",
        "hello\n",
        "19\n",
        "17\n",
        "(13+2j)\n",
        "5\n",
        "hello\n"
       ]
      }
     ],
     "prompt_number": 75
    },
    {
     "cell_type": "heading",
     "level": 4,
     "metadata": {},
     "source": [
      "How to access individual elements/slices from the list?"
     ]
    },
    {
     "cell_type": "code",
     "collapsed": false,
     "input": [
      "a=range(10)\n",
      "print(a)"
     ],
     "language": "python",
     "metadata": {},
     "outputs": [
      {
       "output_type": "stream",
       "stream": "stdout",
       "text": [
        "[0, 1, 2, 3, 4, 5, 6, 7, 8, 9]\n"
       ]
      }
     ],
     "prompt_number": 3
    },
    {
     "cell_type": "code",
     "collapsed": false,
     "input": [
      "print(a[0])\n",
      "print(a[2:7])\n",
      "print(a[:])\n",
      "print(a[1:])\n",
      "print(a[::2])\n",
      "\n",
      "print(a[-1])\n",
      "print(a[-5:-1:2])"
     ],
     "language": "python",
     "metadata": {},
     "outputs": [
      {
       "output_type": "stream",
       "stream": "stdout",
       "text": [
        "0\n",
        "[2, 3, 4, 5, 6]\n",
        "[0, 1, 2, 3, 4, 5, 6, 7, 8, 9]\n",
        "[1, 2, 3, 4, 5, 6, 7, 8, 9]\n",
        "[0, 2, 4, 6, 8]\n",
        "9\n",
        "[5, 7]\n"
       ]
      }
     ],
     "prompt_number": 15
    },
    {
     "cell_type": "heading",
     "level": 4,
     "metadata": {},
     "source": [
      "Modifying + copying lists"
     ]
    },
    {
     "cell_type": "code",
     "collapsed": false,
     "input": [
      "a=[1,2,7,8,9,13]\n",
      "b=a\n",
      "c=a[:]\n",
      "print(a)\n",
      "print(b)\n",
      "print(c)\n",
      "print(id(a))\n",
      "print(id(b))\n",
      "print(id(c))\n",
      "b[3]=17\n",
      "print(a)\n",
      "print(b)\n",
      "print(c)"
     ],
     "language": "python",
     "metadata": {},
     "outputs": [
      {
       "output_type": "stream",
       "stream": "stdout",
       "text": [
        "[1, 2, 7, 8, 9, 13]\n",
        "[1, 2, 7, 8, 9, 13]\n",
        "[1, 2, 7, 8, 9, 13]\n",
        "139669183979320\n",
        "139669183979320\n",
        "139669183978744\n",
        "[1, 2, 7, 17, 9, 13]\n",
        "[1, 2, 7, 17, 9, 13]\n",
        "[1, 2, 7, 8, 9, 13]\n"
       ]
      }
     ],
     "prompt_number": 20
    },
    {
     "cell_type": "heading",
     "level": 4,
     "metadata": {},
     "source": [
      "Multiple Dimensional Lists"
     ]
    },
    {
     "cell_type": "code",
     "collapsed": false,
     "input": [
      "import copy\n",
      "a=[[1,2,3],[4,7,8,9],[13,'string','+']]\n",
      "b=a\n",
      "c=copy.deepcopy(a)\n",
      "print(\"a:\",a)\n",
      "print(\"b:\",b)\n",
      "print(\"c:\",c)\n",
      "b[1][2]=17\n",
      "print(\"b (After change):\",b)\n",
      "print(\"a (After change):\",a)\n",
      "print(\"c (After change):\",c)\n"
     ],
     "language": "python",
     "metadata": {},
     "outputs": [
      {
       "output_type": "stream",
       "stream": "stdout",
       "text": [
        "('a:', [[1, 2, 3], [4, 7, 8, 9], [13, 'string', '+']])\n",
        "('b:', [[1, 2, 3], [4, 7, 8, 9], [13, 'string', '+']])\n",
        "('c:', [[1, 2, 3], [4, 7, 8, 9], [13, 'string', '+']])\n",
        "('b (After change):', [[1, 2, 3], [4, 7, 17, 9], [13, 'string', '+']])\n",
        "('a (After change):', [[1, 2, 3], [4, 7, 17, 9], [13, 'string', '+']])\n",
        "('c (After change):', [[1, 2, 3], [4, 7, 8, 9], [13, 'string', '+']])\n"
       ]
      }
     ],
     "prompt_number": 26
    },
    {
     "cell_type": "heading",
     "level": 3,
     "metadata": {},
     "source": [
      "String"
     ]
    },
    {
     "cell_type": "markdown",
     "metadata": {},
     "source": [
      "<b>String := A sequence of characters</b>\n",
      "* Starts with single quote/double quotes\n",
      "* End with the same single quote/double quotes\n",
      "* <font color=\"red\"><b>immutable</b></font> object\n",
      "* access of individual elements/slices (same as for lists)"
     ]
    },
    {
     "cell_type": "heading",
     "level": 4,
     "metadata": {},
     "source": [
      "Examples of Strings:"
     ]
    },
    {
     "cell_type": "code",
     "collapsed": false,
     "input": [
      "str1=\"Hello World\"\n",
      "print(id(str))\n",
      "try:\n",
      "    str[0]=\"h\"  # Immutable object -> will not work\n",
      "except TypeError:\n",
      "    print(\"The string '{0}' can not be altered\".format(str)) \n",
      "\n",
      "str=\"hello world\"\n",
      "print(id(str))"
     ],
     "language": "python",
     "metadata": {},
     "outputs": [
      {
       "output_type": "stream",
       "stream": "stdout",
       "text": [
        "139669182806368\n",
        "The string 'Hello World' can not be altered\n",
        "139669182804880\n"
       ]
      }
     ],
     "prompt_number": 43
    },
    {
     "cell_type": "heading",
     "level": 4,
     "metadata": {},
     "source": [
      "A few usefull string operators:"
     ]
    },
    {
     "cell_type": "code",
     "collapsed": false,
     "input": [
      "str1=\"Hello\"\n",
      "str2=\"World\"\n",
      "str12=str1 + \" \" + str2\n",
      "print(\"'{0}'\".format(str12))\n",
      "print(\"'{0}'\".format(5 * (str1 + \" \" ) + \"!\" ))  \n",
      "\n",
      "str1=\"  abcdef  \" \n",
      "str2=\"  OPKLRS  \"\n",
      "print(\"'{0}'\".format(str1.upper()))\n",
      "print(\"'{0}'\".format(str2.lower()))\n",
      "print(\"'{0}'\".format(str1.strip()+str2.strip()))\n",
      "str3=\"-\".join(['a','b','c','d'])\n",
      "print(\"'{0}'\".format(str3))\n",
      "\n",
      "# index: if not found -> error\n",
      "city=\"Witwatersrand\"\n",
      "substr=[\"wat\",\"Wat\"]\n",
      "for x in substr:\n",
      "    try:\n",
      "        ind=city.index(x)\n",
      "        print(\"Substring '{0}' started at {1} in '{2}'\".format(x,ind,city))\n",
      "    except ValueError:\n",
      "        print(\"Substring '{0}' not found in '{1}'\".format(x,city))\n",
      "        \n",
      "# find method\n",
      "for x in substr:\n",
      "    ind=city.find(x)\n",
      "    print(\"Substring '{0}' started at {1} in '{2}'\".format(x, ind,city))\n",
      "    "
     ],
     "language": "python",
     "metadata": {},
     "outputs": [
      {
       "output_type": "stream",
       "stream": "stdout",
       "text": [
        "'Hello World'\n",
        "'Hello Hello Hello Hello Hello !'\n",
        "'  ABCDEF  '\n",
        "'  opklrs  '\n",
        "'abcdefOPKLRS'\n",
        "'a-b-c-d'\n",
        "Substring 'wat' started at 3 in 'Witwatersrand'\n",
        "Substring 'Wat' not found in 'Witwatersrand'\n",
        "Substring 'wat' started at 3 in 'Witwatersrand'\n",
        "Substring 'Wat' started at -1 in 'Witwatersrand'\n"
       ]
      }
     ],
     "prompt_number": 67
    },
    {
     "cell_type": "heading",
     "level": 3,
     "metadata": {},
     "source": [
      "Tuple"
     ]
    },
    {
     "cell_type": "markdown",
     "metadata": {},
     "source": [
      "<b>Tuple := An immmutable array of objects </b><br>\n",
      "Note:\n",
      "* C++/C/Fortran/Java,.. : All elements of the array must be of the same type\n",
      "* Python: Elements can be of whatever type\n",
      "* List:[]   vs. Tuple: ()\n",
      "* Return (if not empty) from a function: Tuple"
     ]
    },
    {
     "cell_type": "heading",
     "level": 4,
     "metadata": {},
     "source": [
      "Examples of tuples"
     ]
    },
    {
     "cell_type": "code",
     "collapsed": false,
     "input": [
      "days_of_the_week=('mon','tue','wed','thur','fri','sat','sun')\n",
      "# Modifying 1 day of the week\n",
      "try:\n",
      "    days_of_the_week[6]='workday'\n",
      "except TypeError:\n",
      "    print(\"The days of the week can not be changed\")\n",
      "    \n",
      "onemember=('John',)  # , at the End\n",
      "res= 3, 4, 5         # Example of tuple packing\n",
      "print(\"res='{0}'\".format(res))\n",
      "for x in res:\n",
      "    print(x)"
     ],
     "language": "python",
     "metadata": {},
     "outputs": [
      {
       "output_type": "stream",
       "stream": "stdout",
       "text": [
        "The days of the week can not be changed\n",
        "res='(3, 4, 5)'\n",
        "3\n",
        "4\n",
        "5\n"
       ]
      }
     ],
     "prompt_number": 113
    },
    {
     "cell_type": "heading",
     "level": 4,
     "metadata": {},
     "source": [
      "Lists vs. Tuples"
     ]
    },
    {
     "cell_type": "markdown",
     "metadata": {},
     "source": [
      "* List: dynamic memory allocation -> can be resized\n",
      "* Tuple: static "
     ]
    },
    {
     "cell_type": "heading",
     "level": 3,
     "metadata": {},
     "source": [
      "Dictionary"
     ]
    },
    {
     "cell_type": "markdown",
     "metadata": {},
     "source": [
      "<b>Dictionary := Associative array i.e. an collection of (key,value) pairs</b>\n",
      "* Dictionary is a <font color=\"green\">mutuable</font> object\n",
      "* <font color=\"red\">Not</font> ordered"
     ]
    },
    {
     "cell_type": "code",
     "collapsed": false,
     "input": [
      "area_code={'SaltLakeCity':801,'RuralUtah':435,'Ithaca':607,'RhodeIsland':401,'Seattle':206}\n",
      "area_code['NYC']=212;\n",
      "print(type(area_code))\n",
      "print('area_code:{0}'.format(area_code))\n",
      "print('  Keys:'  ,area_code.keys())\n",
      "print('  Values:', area_code.values())\n",
      "for item in area_code.keys():\n",
      "    print(\"  Area code of '{0}' :: '{1}'\".format(item,area_code[item]))\n",
      "print(len(area_code))  \n",
      "print(\"'LA' among the keys:?'{0}'\".format('LA' in area_code))\n",
      "print(\"'SaltLakeCity' among the keys:?'{0}'\".format('SaltLakeCity' in area_code))  "
     ],
     "language": "python",
     "metadata": {},
     "outputs": [
      {
       "output_type": "stream",
       "stream": "stdout",
       "text": [
        "<type 'dict'>\n",
        "area_code:{'RhodeIsland': 401, 'RuralUtah': 435, 'SaltLakeCity': 801, 'NYC': 212, 'Seattle': 206, 'Ithaca': 607}\n",
        "('  Keys:', ['RhodeIsland', 'RuralUtah', 'SaltLakeCity', 'NYC', 'Seattle', 'Ithaca'])\n",
        "('  Values:', [401, 435, 801, 212, 206, 607])\n",
        "  Area code of 'RhodeIsland' :: '401'\n",
        "  Area code of 'RuralUtah' :: '435'\n",
        "  Area code of 'SaltLakeCity' :: '801'\n",
        "  Area code of 'NYC' :: '212'\n",
        "  Area code of 'Seattle' :: '206'\n",
        "  Area code of 'Ithaca' :: '607'\n",
        "6\n",
        "'LA' among the keys:?'False'\n",
        "'SaltLakeCity' among the keys:?'True'\n"
       ]
      }
     ],
     "prompt_number": 131
    },
    {
     "cell_type": "heading",
     "level": 3,
     "metadata": {},
     "source": [
      "Set"
     ]
    },
    {
     "cell_type": "markdown",
     "metadata": {},
     "source": [
      "<b>Set := Collection of distinct objects</b>\n",
      "* Set is a <font color=\"green\">mutuable</font> object\n",
      "* <font color=\"red\">Not</font> ordered"
     ]
    },
    {
     "cell_type": "code",
     "collapsed": false,
     "input": [
      "nat1={1,2,3,4,5,6,7,8,9,10}\n",
      "nat2=set([i for i in range(8,15)])\n",
      "nat1.add(11)\n",
      "print('{0}'.format(nat1))\n",
      "print('{0}'.format(nat2)) \n",
      "print('Intersection :', nat1 & nat2)\n",
      "print('Union        :', nat1 | nat2)\n",
      "print('Difference   :', nat1 - nat2)\n",
      "print('Delta        :', nat1 ^ nat2)\n",
      "print('Set 1 & 2:Disjoint?:{0}'.format(nat1.isdisjoint(nat2)))\n",
      "print('5 \\in Set1 ?:{0}'.format(5 in nat1))\n",
      "print('Card#:{0}'.format(len(nat2)))\n",
      "\n",
      "# Find the unique el in a list\n",
      "lst=[i for i in range(12)] + [ i for i in range(14,5,-1)]\n",
      "print(lst)\n",
      "# Unique el. are:\n",
      "lst=list(set(lst))\n",
      "print(lst)"
     ],
     "language": "python",
     "metadata": {},
     "outputs": [
      {
       "output_type": "stream",
       "stream": "stdout",
       "text": [
        "set([1, 2, 3, 4, 5, 6, 7, 8, 9, 10, 11])\n",
        "set([8, 9, 10, 11, 12, 13, 14])\n",
        "('Intersection :', set([8, 9, 10, 11]))\n",
        "('Union        :', set([1, 2, 3, 4, 5, 6, 7, 8, 9, 10, 11, 12, 13, 14]))\n",
        "('Difference   :', set([1, 2, 3, 4, 5, 6, 7]))\n",
        "('Delta        :', set([1, 2, 3, 4, 5, 6, 7, 12, 13, 14]))\n",
        "Set 1 & 2:Disjoint?:False\n",
        "5 \\in Set1 ?:True\n",
        "Card#:7\n",
        "[0, 1, 2, 3, 4, 5, 6, 7, 8, 9, 10, 11, 14, 13, 12, 11, 10, 9, 8, 7, 6]\n",
        "[0, 1, 2, 3, 4, 5, 6, 7, 8, 9, 10, 11, 12, 13, 14]\n"
       ]
      }
     ],
     "prompt_number": 103
    },
    {
     "cell_type": "heading",
     "level": 3,
     "metadata": {},
     "source": [
      "Exercise 1:\n"
     ]
    },
    {
     "cell_type": "markdown",
     "metadata": {},
     "source": [
      "* The English translation of the \"Declaration of the Rights of Man\" (1789) can be found at:\n",
      "  http://avalon.law.yale.edu/18th_century/rightsof.asp <br>\n",
      "  It contains 17 articles.<br>\n",
      "  * Its content can be found in the file ../DataFiles/rightsofman.txt\n",
      "  * Read the content from the file rightsofman.txt\n",
      "  * The lines starting with the '#' character are not part of the Declaration\n",
      "  * How many words does the Declaration count?\n",
      "  * How many unique words are used in the Declaration?\n",
      "    (Plural forms, conjugated formes of verbs are unique words;\n",
      "     Uppercase letters in words do NOT generate unique words)\n",
      "  * What is the frequency of each word?\n",
      "  * What is the longest word?\n",
      "  * What is the frequency of each letter?\n",
      "  * Write your results into the file: ../Output/results.txt"
     ]
    },
    {
     "cell_type": "heading",
     "level": 2,
     "metadata": {},
     "source": [
      "Exception Handling"
     ]
    },
    {
     "cell_type": "markdown",
     "metadata": {},
     "source": [
      "Most common error in Python: SyntaxError"
     ]
    },
    {
     "cell_type": "heading",
     "level": 3,
     "metadata": {},
     "source": [
      "First example:"
     ]
    },
    {
     "cell_type": "markdown",
     "metadata": {},
     "source": [
      "sinc($x$) := $\\frac{\\sin(x)}{x}$ "
     ]
    },
    {
     "cell_type": "code",
     "collapsed": false,
     "input": [
      "# sinc code (Version 1)\n",
      "from math import sin\n",
      "\n",
      "def sinc(x):\n",
      "    \"\"\"\n",
      "    Naive Definition of the sinc function\n",
      "    defined as sin(x)/x\n",
      "    \"\"\"\n",
      "    return sin(x)/x\n",
      "\n",
      "if __name__ == \"__main__\":\n",
      "\n",
      "    x=5\n",
      "    print(\"  x={0} sinc(x)={1}\".format(x,sinc(x)))\n",
      "\n",
      "    x=0.00\n",
      "    print(\"  x={0} sinc(x)={1}\".format(x,sinc(x)))"
     ],
     "language": "python",
     "metadata": {},
     "outputs": [
      {
       "output_type": "stream",
       "stream": "stdout",
       "text": [
        "  x=5 sinc(x)=-0.191784854933\n"
       ]
      },
      {
       "ename": "ZeroDivisionError",
       "evalue": "float division by zero",
       "output_type": "pyerr",
       "traceback": [
        "\u001b[1;31m---------------------------------------------------------------------------\u001b[0m\n\u001b[1;31mZeroDivisionError\u001b[0m                         Traceback (most recent call last)",
        "\u001b[1;32m<ipython-input-5-734471ac62ea>\u001b[0m in \u001b[0;36m<module>\u001b[1;34m()\u001b[0m\n\u001b[0;32m     15\u001b[0m \u001b[1;33m\u001b[0m\u001b[0m\n\u001b[0;32m     16\u001b[0m     \u001b[0mx\u001b[0m\u001b[1;33m=\u001b[0m\u001b[1;36m0.00\u001b[0m\u001b[1;33m\u001b[0m\u001b[0m\n\u001b[1;32m---> 17\u001b[1;33m     \u001b[1;32mprint\u001b[0m\u001b[1;33m(\u001b[0m\u001b[1;34m\"  x={0} sinc(x)={1}\"\u001b[0m\u001b[1;33m.\u001b[0m\u001b[0mformat\u001b[0m\u001b[1;33m(\u001b[0m\u001b[0mx\u001b[0m\u001b[1;33m,\u001b[0m\u001b[0msinc\u001b[0m\u001b[1;33m(\u001b[0m\u001b[0mx\u001b[0m\u001b[1;33m)\u001b[0m\u001b[1;33m)\u001b[0m\u001b[1;33m)\u001b[0m\u001b[1;33m\u001b[0m\u001b[0m\n\u001b[0m",
        "\u001b[1;32m<ipython-input-5-734471ac62ea>\u001b[0m in \u001b[0;36msinc\u001b[1;34m(x)\u001b[0m\n\u001b[0;32m      7\u001b[0m     \u001b[0mdefined\u001b[0m \u001b[1;32mas\u001b[0m \u001b[0msin\u001b[0m\u001b[1;33m(\u001b[0m\u001b[0mx\u001b[0m\u001b[1;33m)\u001b[0m\u001b[1;33m/\u001b[0m\u001b[0mx\u001b[0m\u001b[1;33m\u001b[0m\u001b[0m\n\u001b[0;32m      8\u001b[0m     \"\"\"\n\u001b[1;32m----> 9\u001b[1;33m     \u001b[1;32mreturn\u001b[0m \u001b[0msin\u001b[0m\u001b[1;33m(\u001b[0m\u001b[0mx\u001b[0m\u001b[1;33m)\u001b[0m\u001b[1;33m/\u001b[0m\u001b[0mx\u001b[0m\u001b[1;33m\u001b[0m\u001b[0m\n\u001b[0m\u001b[0;32m     10\u001b[0m \u001b[1;33m\u001b[0m\u001b[0m\n\u001b[0;32m     11\u001b[0m \u001b[1;32mif\u001b[0m \u001b[0m__name__\u001b[0m \u001b[1;33m==\u001b[0m \u001b[1;34m\"__main__\"\u001b[0m\u001b[1;33m:\u001b[0m\u001b[1;33m\u001b[0m\u001b[0m\n",
        "\u001b[1;31mZeroDivisionError\u001b[0m: float division by zero"
       ]
      }
     ],
     "prompt_number": 5
    },
    {
     "cell_type": "code",
     "collapsed": false,
     "input": [
      "# sinc code (Version 2)\n",
      "from math import sin\n",
      "\n",
      "def sinc(x):\n",
      "    \"\"\"\n",
      "    Sinc Function :: sin(x)/x\n",
      "    Improved version #1\n",
      "    \"\"\"\n",
      "    try:\n",
      "        return sin(x)/x\n",
      "    except ZeroDivisionError:\n",
      "        return 1.00\n",
      "\n",
      "if __name__ == \"__main__\":\n",
      "\n",
      "    x=5\n",
      "    print(\"  x={0} sinc(x)={1}\".format(x,sinc(x)))\n",
      "\n",
      "    x=0.00\n",
      "    print(\"  x={0} sinc(x)={1}\".format(x,sinc(x)))\n",
      "\n",
      "    x=\"5\"\n",
      "    print(\"  x={0} sinc(x)={1}\".format(x,sinc(x)))"
     ],
     "language": "python",
     "metadata": {},
     "outputs": [
      {
       "output_type": "stream",
       "stream": "stdout",
       "text": [
        "  x=5 sinc(x)=-0.191784854933\n",
        "  x=0.0 sinc(x)=1.0\n"
       ]
      },
      {
       "ename": "TypeError",
       "evalue": "a float is required",
       "output_type": "pyerr",
       "traceback": [
        "\u001b[1;31m---------------------------------------------------------------------------\u001b[0m\n\u001b[1;31mTypeError\u001b[0m                                 Traceback (most recent call last)",
        "\u001b[1;32m<ipython-input-6-c243354db89d>\u001b[0m in \u001b[0;36m<module>\u001b[1;34m()\u001b[0m\n\u001b[0;32m     21\u001b[0m \u001b[1;33m\u001b[0m\u001b[0m\n\u001b[0;32m     22\u001b[0m     \u001b[0mx\u001b[0m\u001b[1;33m=\u001b[0m\u001b[1;34m\"5\"\u001b[0m\u001b[1;33m\u001b[0m\u001b[0m\n\u001b[1;32m---> 23\u001b[1;33m     \u001b[1;32mprint\u001b[0m\u001b[1;33m(\u001b[0m\u001b[1;34m\"  x={0} sinc(x)={1}\"\u001b[0m\u001b[1;33m.\u001b[0m\u001b[0mformat\u001b[0m\u001b[1;33m(\u001b[0m\u001b[0mx\u001b[0m\u001b[1;33m,\u001b[0m\u001b[0msinc\u001b[0m\u001b[1;33m(\u001b[0m\u001b[0mx\u001b[0m\u001b[1;33m)\u001b[0m\u001b[1;33m)\u001b[0m\u001b[1;33m)\u001b[0m\u001b[1;33m\u001b[0m\u001b[0m\n\u001b[0m",
        "\u001b[1;32m<ipython-input-6-c243354db89d>\u001b[0m in \u001b[0;36msinc\u001b[1;34m(x)\u001b[0m\n\u001b[0;32m      8\u001b[0m     \"\"\"\n\u001b[0;32m      9\u001b[0m     \u001b[1;32mtry\u001b[0m\u001b[1;33m:\u001b[0m\u001b[1;33m\u001b[0m\u001b[0m\n\u001b[1;32m---> 10\u001b[1;33m         \u001b[1;32mreturn\u001b[0m \u001b[0msin\u001b[0m\u001b[1;33m(\u001b[0m\u001b[0mx\u001b[0m\u001b[1;33m)\u001b[0m\u001b[1;33m/\u001b[0m\u001b[0mx\u001b[0m\u001b[1;33m\u001b[0m\u001b[0m\n\u001b[0m\u001b[0;32m     11\u001b[0m     \u001b[1;32mexcept\u001b[0m \u001b[0mZeroDivisionError\u001b[0m\u001b[1;33m:\u001b[0m\u001b[1;33m\u001b[0m\u001b[0m\n\u001b[0;32m     12\u001b[0m         \u001b[1;32mreturn\u001b[0m \u001b[1;36m1.00\u001b[0m\u001b[1;33m\u001b[0m\u001b[0m\n",
        "\u001b[1;31mTypeError\u001b[0m: a float is required"
       ]
      }
     ],
     "prompt_number": 6
    },
    {
     "cell_type": "code",
     "collapsed": false,
     "input": [
      "# sinc code (Final Version)\n",
      "from math import sin\n",
      "\n",
      "def sinc(x):\n",
      "    \"\"\"\n",
      "    Sinc function :: sin(x)/x\n",
      "      Improvement #2\n",
      "    \"\"\"\n",
      "    try:\n",
      "        return sin(x)/x\n",
      "    except ZeroDivisionError:\n",
      "        return 1.00\n",
      "    except TypeError as te:\n",
      "        print(\"  \" + str(te))\n",
      "        return\n",
      "\n",
      "if __name__ == \"__main__\":\n",
      "\n",
      "    x=5\n",
      "    res=sinc(x)\n",
      "    if res is not None:\n",
      "        print(\"  x={0} sinc(x)={1}\".format(x,sinc(x)))\n",
      "\n",
      "    x=0.00\n",
      "    res=sinc(x)\n",
      "    if res is not None:\n",
      "        print(\"  x={0} sinc(x)={1}\".format(x,sinc(x)))\n",
      "\n",
      "    x=\"5\"\n",
      "    res=sinc(x)\n",
      "    if res is not None:\n",
      "        print(\"  x={0} sinc(x)={1}\".format(x,sinc(x)))"
     ],
     "language": "python",
     "metadata": {},
     "outputs": [
      {
       "output_type": "stream",
       "stream": "stdout",
       "text": [
        "  x=5 sinc(x)=-0.191784854933\n",
        "  x=0.0 sinc(x)=1.0\n",
        "  a float is required\n"
       ]
      }
     ],
     "prompt_number": 2
    },
    {
     "cell_type": "heading",
     "level": 3,
     "metadata": {},
     "source": [
      "Example 2:"
     ]
    },
    {
     "cell_type": "markdown",
     "metadata": {},
     "source": [
      "Method to check the validity of an IP Address"
     ]
    },
    {
     "cell_type": "code",
     "collapsed": false,
     "input": [
      "# Example 2:IP Address\n",
      "class IPError(Exception):\n",
      "    def __init__(self, code):\n",
      "        self.code = code\n",
      "    def __str__(self):\n",
      "        return repr(self.code)\n",
      "\n",
      "def validIP(address):\n",
      "\n",
      "    correctIP=False\n",
      "    try:\n",
      "        arr=address.split(\".\")\n",
      "        if len(arr) != 4:\n",
      "           raise IPError(\"   IP address :: 4 different fields required\")\n",
      "\n",
      "        for item in arr:\n",
      "            x=int(item)\n",
      "            if not(0<=x<=255):\n",
      "                raise IPError(\"   IP address :: each field must be \\in [0,256[\")\n",
      "\n",
      "    except ValueError:\n",
      "        print(\"   IP address :: non numeric\")\n",
      "\n",
      "    except IPError as e:\n",
      "        print(e.code)\n",
      "\n",
      "    else:\n",
      "        correctIP=True\n",
      "\n",
      "    finally:\n",
      "        return correctIP\n",
      "\n",
      "ipList=[\"127.13.14\",\"aa.256.45.13\",\"127.13.256.0\",\"127.13.255.0\"]\n",
      "for item in ipList:\n",
      "    print(\"IP address:'{0}'\".format(item))\n",
      "    res=validIP(item)\n",
      "    print(\"   Valid?:'{0}'\".format(res))"
     ],
     "language": "python",
     "metadata": {},
     "outputs": [
      {
       "output_type": "stream",
       "stream": "stdout",
       "text": [
        "IP address:'127.13.14'\n",
        "   IP address :: 4 different fields required\n",
        "   Valid?:'False'\n",
        "IP address:'aa.256.45.13'\n",
        "   IP address :: non numeric\n",
        "   Valid?:'False'\n",
        "IP address:'127.13.256.0'\n",
        "   IP address :: each field must be \\in [0,256[\n",
        "   Valid?:'False'\n",
        "IP address:'127.13.255.0'\n",
        "   Valid?:'True'\n"
       ]
      }
     ],
     "prompt_number": 3
    },
    {
     "cell_type": "heading",
     "level": 2,
     "metadata": {},
     "source": [
      "Functions in Python (Part II)"
     ]
    },
    {
     "cell_type": "heading",
     "level": 3,
     "metadata": {},
     "source": [
      "a.Anonymous functions"
     ]
    },
    {
     "cell_type": "code",
     "collapsed": false,
     "input": [
      "# Traditional function\n",
      "def f(x):\n",
      "    \"\"\"\n",
      "    Method to calculate the square of a number\n",
      "    @inp x: number to be squared\n",
      "    \"\"\"\n",
      "    return x*x\n",
      "x=5.0\n",
      "print(\"Traditional function :: The square of {0} is {1}\".format(x,f(x)))\n",
      "\n",
      "# It's anonymous counter part\n",
      "g = lambda x : x*x\n",
      "print(\"Anonymous function :: The square of {0} is {1}\".format(x,g(x)))\n",
      "\n",
      "# Combination of traditional and\n",
      "# anonymous function\n",
      "def add(n):\n",
      "    \"\"\"\n",
      "    Implemtation of the add method \n",
      "    \"\"\"\n",
      "    return lambda x: x + n  # Do not forget the return statement\n",
      "\n",
      "f=add(3)\n",
      "g=add(7)\n",
      "print(\"Calculate f(5):{0:2d}\".format(f(5)))\n",
      "print(\"Calculate g(5):{0:2d}\".format(g(5)))"
     ],
     "language": "python",
     "metadata": {},
     "outputs": [
      {
       "output_type": "stream",
       "stream": "stdout",
       "text": [
        "Traditional function :: The square of 5.0 is 25.0\n",
        "Anonymous function :: The square of 5.0 is 25.0\n",
        "Calculate f(5): 8\n",
        "Calculate g(5):12\n"
       ]
      }
     ],
     "prompt_number": 12
    },
    {
     "cell_type": "heading",
     "level": 3,
     "metadata": {},
     "source": [
      "b.Concepts of functional programming:"
     ]
    },
    {
     "cell_type": "markdown",
     "metadata": {},
     "source": [
      "We will introduce 3 types of functions:\n",
      "* map\n",
      "* filter\n",
      "* reduce"
     ]
    },
    {
     "cell_type": "heading",
     "level": 4,
     "metadata": {},
     "source": [
      "b1.map function:"
     ]
    },
    {
     "cell_type": "markdown",
     "metadata": {},
     "source": [
      "<font color=\"blue\">\n",
      "The Python map function takes an input vector and<br> \n",
      "applies a function on <b>EACH</b> element of this vector.<br>\n",
      "It returns a vector of the same length as the input vector.</font>"
     ]
    },
    {
     "cell_type": "code",
     "collapsed": false,
     "input": [
      "# Example: Convert distance from km into miles using\n",
      "#          using the map function\n",
      "MILE_TO_KM=1.60934\n",
      "inp=[1., 2., 5., 10., 25., 100.]\n",
      "\n",
      "print(\"Mapping w. anonymous function:\")\n",
      "convKm2Miles=lambda x : x/MILE_TO_KM\n",
      "out=map(convKm2Miles,inp)\n",
      "print(\"    inp:{0}\".format(inp))\n",
      "print(\"    out:{0}\".format(out))\n",
      "\n",
      "# Using the traditional function\n",
      "print(\"Mapping w. traditional function:\")\n",
      "def convKm2Miles(x):\n",
      "    return x/MILE_TO_KM\n",
      "out=map(convKm2Miles,inp)\n",
      "print(\"    inp:{0}\".format(inp))\n",
      "print(\"    out:{0}\".format(out))"
     ],
     "language": "python",
     "metadata": {},
     "outputs": [
      {
       "output_type": "stream",
       "stream": "stdout",
       "text": [
        "Mapping w. anonymous function:\n",
        "    inp:[1.0, 2.0, 5.0, 10.0, 25.0, 100.0]\n",
        "    out:[0.6213727366498067, 1.2427454732996135, 3.106863683249034, 6.213727366498068, 15.534318416245169, 62.137273664980675]\n",
        "Mapping w. traditional function:\n",
        "    inp:[1.0, 2.0, 5.0, 10.0, 25.0, 100.0]\n",
        "    out:[0.6213727366498067, 1.2427454732996135, 3.106863683249034, 6.213727366498068, 15.534318416245169, 62.137273664980675]\n"
       ]
      }
     ],
     "prompt_number": 28
    },
    {
     "cell_type": "code",
     "collapsed": false,
     "input": [
      "# Traditional counterpart\n",
      "print(\"Traditional counterpart:\")\n",
      "out=[i/MILE_TO_KM for i in inp]\n",
      "print(\"    inp:{0}\".format(inp))\n",
      "print(\"    out:{0}\".format(out))"
     ],
     "language": "python",
     "metadata": {},
     "outputs": [
      {
       "output_type": "stream",
       "stream": "stdout",
       "text": [
        "Traditional counterpart:\n",
        "    inp:[1.0, 2.0, 5.0, 10.0, 25.0, 100.0]\n",
        "    out:[0.6213727366498067, 1.2427454732996135, 3.106863683249034, 6.213727366498068, 15.534318416245169, 62.137273664980675]\n"
       ]
      }
     ],
     "prompt_number": 29
    },
    {
     "cell_type": "heading",
     "level": 4,
     "metadata": {},
     "source": [
      "b2.the filter function:"
     ]
    },
    {
     "cell_type": "markdown",
     "metadata": {},
     "source": [
      "<font color=\"blue\">\n",
      "The Python filter function takes an input vector and<br>\n",
      "<b>retains only those elements</b> of this vector<br>\n",
      "for which <b>the applied function returns true</b>.\n",
      "</font>"
     ]
    },
    {
     "cell_type": "code",
     "collapsed": false,
     "input": [
      "# Example: Retain only those numbers which can be divide by 3\n",
      "#          using the filter function\n",
      "inp=[1,2,3,5,8,12,14,16,21]\n",
      "\n",
      "print(\"Filter w. anonymous function:\")\n",
      "f=lambda x:x%3 == 0   # --> boolean output\n",
      "\n",
      "out=filter(f,inp)\n",
      "print(\"    inp:{0}\".format(inp))\n",
      "print(\"    out:{0}\".format(out))\n",
      "\n",
      "# Using the traditional function\n",
      "print(\"Filter w. traditional function:\")\n",
      "def f(x):\n",
      "    if x%3 == 0:\n",
      "       return True\n",
      "    return False\n",
      "\n",
      "out=filter(f,inp)\n",
      "print(\"    inp:{0}\".format(inp))\n",
      "print(\"    out:{0}\".format(out))"
     ],
     "language": "python",
     "metadata": {},
     "outputs": [
      {
       "output_type": "stream",
       "stream": "stdout",
       "text": [
        "Filter w. anonymous function:\n",
        "    inp:[1, 2, 3, 5, 8, 12, 14, 16, 21]\n",
        "    out:[3, 12, 21]\n",
        "Filter w. traditional function:\n",
        "    inp:[1, 2, 3, 5, 8, 12, 14, 16, 21]\n",
        "    out:[3, 12, 21]\n"
       ]
      }
     ],
     "prompt_number": 30
    },
    {
     "cell_type": "code",
     "collapsed": false,
     "input": [
      "#Traditional counterpart\n",
      "print(\"Traditional counterpart:\")\n",
      "\n",
      "out=[ i for i in inp if i%3 == 0]\n",
      "print(\"    inp:{0}\".format(inp))\n",
      "print(\"    out:{0}\".format(out))"
     ],
     "language": "python",
     "metadata": {},
     "outputs": [
      {
       "output_type": "stream",
       "stream": "stdout",
       "text": [
        "Traditional counterpart:\n",
        "    inp:[1, 2, 3, 5, 8, 12, 14, 16, 21]\n",
        "    out:[3, 12, 21]\n"
       ]
      }
     ],
     "prompt_number": 31
    },
    {
     "cell_type": "heading",
     "level": 4,
     "metadata": {},
     "source": [
      "b3.the reduce function:"
     ]
    },
    {
     "cell_type": "markdown",
     "metadata": {},
     "source": [
      "<font color=\"blue\">\n",
      "The Python reduce function takes an input vector and <b>returns 1 value</b>.<br>\n",
      "The returned value is obtained by applying a function on the first 2 elements<br>\n",
      "and returning 1 temp value. This 1 temp. value is then<br>\n",
      "combined with the third el. to form a new temp. value.<br>\n",
      "This procedure continues all the way to the last element of the vector\n",
      "</font>"
     ]
    },
    {
     "cell_type": "code",
     "collapsed": false,
     "input": [
      "# Example of the reduce function\n",
      "inp=[1,2,3,5,8,12,14,16,21]\n",
      "\n",
      "print(\"Reduce w. anonymous function:\")\n",
      "f=lambda x,y : x + y\n",
      "\n",
      "out=reduce(f,inp)\n",
      "print(\"    inp:{0}\".format(inp))\n",
      "print(\"    out:{0}\".format(out))\n",
      "\n",
      "# Using the traditional function\n",
      "print(\"Reduce w. traditional function:\")\n",
      "def h(x,y):\n",
      "    return x+y\n",
      "\n",
      "out=reduce(h,inp)\n",
      "print(\"    inp:{0}\".format(inp))\n",
      "print(\"    out:{0}\".format(out))"
     ],
     "language": "python",
     "metadata": {},
     "outputs": [
      {
       "output_type": "stream",
       "stream": "stdout",
       "text": [
        "Reduce w. anonymous function:\n",
        "    inp:[1, 2, 3, 5, 8, 12, 14, 16, 21]\n",
        "    out:82\n",
        "Reduce w. traditional function:\n",
        "    inp:[1, 2, 3, 5, 8, 12, 14, 16, 21]\n",
        "    out:82\n"
       ]
      }
     ],
     "prompt_number": 33
    },
    {
     "cell_type": "code",
     "collapsed": false,
     "input": [
      "#Traditional counterpart\n",
      "print(\"Traditional counterpart:\")\n",
      "\n",
      "out=sum(inp)\n",
      "print(\"    inp:{0}\".format(inp))\n",
      "print(\"    out:{0}\".format(out))"
     ],
     "language": "python",
     "metadata": {},
     "outputs": [
      {
       "output_type": "stream",
       "stream": "stdout",
       "text": [
        "Traditional counterpart:\n",
        "    inp:[1, 2, 3, 5, 8, 12, 14, 16, 21]\n",
        "    out:82\n"
       ]
      }
     ],
     "prompt_number": 34
    },
    {
     "cell_type": "heading",
     "level": 2,
     "metadata": {},
     "source": [
      "Concepts of Object-Oriented Programming"
     ]
    },
    {
     "cell_type": "heading",
     "level": 3,
     "metadata": {},
     "source": [
      "A simple class: circle"
     ]
    },
    {
     "cell_type": "markdown",
     "metadata": {},
     "source": [
      "We introduce the following concepts:\n",
      "* Class \n",
      "* Static variable\n",
      "* Methods & fields\n",
      "* Getters & setters\n",
      "* Magic methods"
     ]
    },
    {
     "cell_type": "code",
     "collapsed": false,
     "input": [
      "# Example 1: class circle\n",
      "from math import pi, sqrt, fabs\n",
      "\n",
      "class Circle(object):\n",
      "    \"\"\"\n",
      "    Class circle\n",
      "    \"\"\"\n",
      "    DIFFERENCE = 1.0E-8\n",
      "    counter = 0\n",
      "    \n",
      "    def __init__(self, x=0.00, y=0.00, radius=0.):\n",
      "        \"\"\"\n",
      "        Constructor of the Circle class\n",
      "        \"\"\"\n",
      "        self.__x = x\n",
      "        self.__y = y\n",
      "        self.__radius = radius\n",
      "        Circle.counter += 1\n",
      " \n",
      "    def __del__(self):\n",
      "        Circle.counter -= 1    \n",
      "        \n",
      "    @property\n",
      "    def x(self):\n",
      "        \"\"\"\n",
      "        Get the x value\n",
      "        \"\"\"  \n",
      "        return self.__x\n",
      "\n",
      "    @x.setter\n",
      "    def x(self, value):\n",
      "        \"\"\"\n",
      "        Set the x value\n",
      "        \"\"\"\n",
      "        self.__x = value \n",
      "\n",
      "    @property\n",
      "    def y(self):\n",
      "        \"\"\"\n",
      "        Get the y value\n",
      "        \"\"\"\n",
      "        return self.__y\n",
      "\n",
      "    @y.setter\n",
      "    def y(self, value):\n",
      "        \"\"\"\n",
      "        Set the y value\n",
      "        \"\"\"\n",
      "        self.__y = value\n",
      "\n",
      "    @property\n",
      "    def radius(self):\n",
      "        \"\"\"\n",
      "        Get the radius value\n",
      "        \"\"\"\n",
      "        return self.__radius\n",
      "\n",
      "    @radius.setter\n",
      "    def radius(self, value):\n",
      "        \"\"\"\n",
      "        Set the radius value\n",
      "        \"\"\"\n",
      "        self.__radius = value\n",
      "\n",
      "    def calcArea(self):\n",
      "        \"\"\"\n",
      "        Method to calculate the area under the surface\n",
      "        \"\"\"\n",
      "        return pi*(self.__radius**2)\n",
      "        \n",
      "    def calcCircumference(self):\n",
      "        \"\"\"\n",
      "        Method to circumference of a circle\n",
      "        \"\"\"\n",
      "        return 2.0*pi*self.__radius\n",
      "\n",
      "    # Implementing magic functions         \n",
      "    def __str__(self):\n",
      "        return \" x:{0.x:4.2f} y={0.y:4.2f} r={0.radius:4.2f} => Area:{1:8.4f}  Circum:{2:8.4f}\".\\\n",
      "                 format(self, self.calcArea(), self.calcCircumference())\n",
      "                 \n",
      "    def __lt__(self,other):\n",
      "        \"\"\"\n",
      "        Method to test if self < other\n",
      "        \"\"\"\n",
      "        if self.__radius < other.__radius:\n",
      "            return True\n",
      "        return False   \n",
      "        \n",
      "    def __gt__(self,other):\n",
      "        \"\"\"\n",
      "        Method to test if self > other\n",
      "        \"\"\"\n",
      "        if self.__radius > other.__radius:\n",
      "            return True\n",
      "        return False    \n",
      "        \n",
      "    def __eq__(self, other):\n",
      "        \"\"\"\n",
      "        Method to test whether two circles are equal\n",
      "        \"\"\"\n",
      "        if fabs(self.__radius - other.__radius) < Circle.DIFFERENCE:\n",
      "            return True\n",
      "        return False    \n",
      "\n",
      "             \n",
      "if __name__ == \"__main__\":\n",
      "    print(\" #Circles:{0}\".format(Circle.counter))\n",
      "    c1 = Circle(2.,3.,5.) \n",
      "    print(\" c1:{0}\".format(c1))\n",
      "    c1.x = 3.5\n",
      "    print(\" c1: x:{0:4.2f}\".format(c1.x))\n",
      "    print(\" c1:{0}\".format(c1))\n",
      "    print(\" #Circles:{0}\".format(Circle.counter))\n",
      "    c2 = Circle(7., 1., 2)\n",
      "    print(\" c2:{0}\".format(c2))\n",
      "    print(\" #Circles:{0}\".format(Circle.counter))\n",
      "    print(\" isinstance(c1,Circle):{0}\",isinstance(c1,Circle))\n",
      "    print(\" isinstance(c2,Circle):{0}\",isinstance(c2,Circle))\n",
      "    print(\" c1 < c2:{0}\".format(c1 < c2))\n",
      "    print(\" c1 ==c2:{0}\".format(c1 == c2))\n",
      "    print(\" c1 > c2:{0}\".format(c1 > c2))\n",
      "    del c2\n",
      "    del c1\n",
      "    print(\"#Circles:{0}\".format(Circle.counter))"
     ],
     "language": "python",
     "metadata": {},
     "outputs": [
      {
       "output_type": "stream",
       "stream": "stdout",
       "text": [
        " #Circles:0\n",
        " c1: x:2.00 y=3.00 r=5.00 => Area: 78.5398  Circum: 31.4159\n",
        " c1: x:3.50\n",
        " c1: x:3.50 y=3.00 r=5.00 => Area: 78.5398  Circum: 31.4159\n",
        " #Circles:1\n",
        " c2: x:7.00 y=1.00 r=2.00 => Area: 12.5664  Circum: 12.5664\n",
        " #Circles:2\n",
        "(' isinstance(c1,Circle):{0}', True)\n",
        "(' isinstance(c2,Circle):{0}', True)\n",
        " c1 < c2:False\n",
        " c1 ==c2:False\n",
        " c1 > c2:True\n",
        "#Circles:0\n"
       ]
      }
     ],
     "prompt_number": 4
    },
    {
     "cell_type": "heading",
     "level": 3,
     "metadata": {},
     "source": [
      "Example: Inheritance and polymorphism"
     ]
    },
    {
     "cell_type": "markdown",
     "metadata": {},
     "source": [
      "In this example we introduce:\n",
      "* the concept of inheritance\n",
      "* polymorphism"
     ]
    },
    {
     "cell_type": "heading",
     "level": 4,
     "metadata": {},
     "source": [
      "The super class LibDoc"
     ]
    },
    {
     "cell_type": "code",
     "collapsed": false,
     "input": [
      "# Super class\n",
      "class LibDoc(object):\n",
      "    \"\"\"\n",
      "    Class LibDoc \n",
      "    \"\"\"\n",
      "    \n",
      "    def __init__(self, author, title, date, status):\n",
      "        \"\"\"\n",
      "        Constructor :: method to create a new library document\n",
      "        \n",
      "        Arguments:\n",
      "           title : Title of the document\n",
      "           author: Author of the document (string or list)\n",
      "           date  : Date of purchase by Library\n",
      "           status: Status of the document (e.g. on shelf, borrowed, lost)\n",
      "           \n",
      "        \"\"\"\n",
      "        self.title = title\n",
      "        self.author=[]\n",
      "        if not isinstance(author,list):\n",
      "            self.author.append(author)\n",
      "        else:\n",
      "            self.author = author[:]\n",
      "        self.date = date\n",
      "        self.status = status\n",
      "        \n",
      "    def setTitle(self, title):\n",
      "        \"\"\"\n",
      "        Set the title of a LibDoc\n",
      "        \n",
      "        Arguments:\n",
      "            title: Title of the document (string)\n",
      "            \n",
      "        \"\"\"\n",
      "        self.title = title\n",
      "        \n",
      "    def getTitle(self):    \n",
      "        \"\"\"\n",
      "        Get the title of the LibDoc (string)\n",
      "     \n",
      "        Return:\n",
      "            title: Title of the document (string)\n",
      "        \"\"\"\n",
      "        return self.title\n",
      "        \n",
      "    def setAuthor(self, author):\n",
      "        \"\"\"\n",
      "        Set the author of a LibDoc\n",
      "        \n",
      "        Arguments:\n",
      "            author: Author of the LibDoc (list)\n",
      "        Return:\n",
      "            \n",
      "        \"\"\"\n",
      "        self.author=[]\n",
      "        if not isinstance(author,list):\n",
      "            self.author.append(author)\n",
      "        else:\n",
      "            self.author = author[:]\n",
      "        return\n",
      "        \n",
      "    def getAuthor(self):\n",
      "        \"\"\"\n",
      "        Get the author of a LibDoc object (list)\n",
      "        \"\"\"\n",
      "        return self.author\n",
      "\n",
      "    def setDate(self,date):\n",
      "        \"\"\"\n",
      "        Set the date (string) of a LibDoc object\n",
      "        \n",
      "        Arguments:\n",
      "            data: Date (string) when the LibDoc object was purchased\n",
      "        Return:\n",
      "            None\n",
      "            \n",
      "        \"\"\" \n",
      "        self.date = date\n",
      "        return\n",
      "        \n",
      "    def getDate(self):\n",
      "        \"\"\"\n",
      "        Get the date (string) of a LibDoc object\n",
      "        \n",
      "        Arguments:\n",
      "            self: Object\n",
      "        Return:\n",
      "            date: Date (string) when the LibDoc object was purchased\n",
      "              \n",
      "        \"\"\"\n",
      "        return self.Date\n",
      "\n",
      "    def setStatus(self,status):\n",
      "        \"\"\"\n",
      "        Set the status (string) of a LibDoc object\n",
      "        \n",
      "        Arguments:\n",
      "            self: Class instance\n",
      "            status: Status (string) of a LibDoc object\n",
      "        Return:\n",
      "            None\n",
      "            \n",
      "        \"\"\"\n",
      "        self.status = status\n",
      "        return\n",
      "\n",
      "    def getStatus(self):\n",
      "        \"\"\"\n",
      "        Get the status (string) of a LibDoc object\n",
      "        \n",
      "        Arguments:\n",
      "            self: Class instance\n",
      "        Return:\n",
      "            status: Status (string) of a LibDoc object\n",
      "        \"\"\"        \n",
      "        return self.status\n",
      "        \n",
      "    def __str__(self):\n",
      "        \"\"\"\n",
      "        Magic string function\n",
      "        \n",
      "        Return: str: Class instance as a string\n",
      "        \"\"\"\n",
      "        str=\" author      :\\n\" \n",
      "        for item in self.author:\n",
      "            str += \"              '\" + item + \"'\\n\" \n",
      "        str += \" title       :'\" + self.title +  \"'\\n\" + \\\n",
      "               \" status      :'\" + self.status + \"'\\n\" +\\\n",
      "               \" purchased on:'\" + self.date + \"'\"\n",
      "        return str\n",
      "               \n",
      "if __name__ == \"__main__\":\n",
      "    a=LibDoc(author=\"Paul A. M. Dirac\",\n",
      "             title=\"The Principles of Quantum Mechanics\",\n",
      "             status=\"on shelf\",\n",
      "             date=\"n.a.\")\n",
      "    print(a.getAuthor()) \n",
      "    a.setAuthor('Paul Adrien Maurice Dirac')        \n",
      "    print(str(a))  "
     ],
     "language": "python",
     "metadata": {},
     "outputs": [
      {
       "output_type": "stream",
       "stream": "stdout",
       "text": [
        "['Paul A. M. Dirac']\n",
        " author      :\n",
        "              'Paul Adrien Maurice Dirac'\n",
        " title       :'The Principles of Quantum Mechanics'\n",
        " status      :'on shelf'\n",
        " purchased on:'n.a.'\n"
       ]
      }
     ],
     "prompt_number": 5
    },
    {
     "cell_type": "heading",
     "level": 4,
     "metadata": {},
     "source": [
      "The derived class"
     ]
    },
    {
     "cell_type": "code",
     "collapsed": false,
     "input": [
      "# from libdoc import *\n",
      "class Book(LibDoc):\n",
      "    \"\"\"\n",
      "    Class Book :: derived from LibDoc\n",
      "    \"\"\"\n",
      "    def __init__(self, author, title, publisher, year, \n",
      "                 date=\"\",status=\"\",\n",
      "                 volume = \"\", series = \"\", address = \"\",\n",
      "                 pages = \"\", edition = \"\", isbn13 = \"\"):\n",
      "        \"\"\"\n",
      "        Initialize an instance of a Book object\n",
      "        \"\"\"\n",
      "        \n",
      "        super(Book,self).__init__(author,title,date,status)\n",
      "        self.publisher = publisher\n",
      "        self.year = year\n",
      "        self.volume = volume\n",
      "        self.series = series\n",
      "        self.pages = pages\n",
      "        self.address = address\n",
      "        self.edition = edition\n",
      "        self.isbn13 = isbn13\n",
      "        \n",
      "    # Getters and setters for author, title, date, status\n",
      "    # inherited from LibDoc\n",
      "        \n",
      "    def setPublisher(self, publisher):\n",
      "        \"\"\"\n",
      "        Method to set the publisher field of a Book instance\n",
      "        \"\"\"\n",
      "        self.publisher = publisher\n",
      "        return\n",
      "        \n",
      "    def getPublisher(self):\n",
      "        \"\"\"\n",
      "        Method to retrieve the publisher field of a Book instance\n",
      "        \"\"\"\n",
      "        return self.publisher\n",
      "        \n",
      "    def setYear(self, year):\n",
      "        \"\"\"\n",
      "        Method to set the publishing year of a Book instance\n",
      "        \"\"\"\n",
      "        self.year = year\n",
      "        return\n",
      "        \n",
      "    def getYear(self):\n",
      "        \"\"\"\n",
      "        Method to retrieve the publishing year field of a Book instance\n",
      "        \"\"\"\n",
      "        return self.year    \n",
      "    \n",
      "    def setVolume(self, volume):\n",
      "        \"\"\"\n",
      "        Method to set the volume field of a Book instance\n",
      "        \"\"\"\n",
      "        self.volume = volume\n",
      "        return    \n",
      "    \n",
      "    def getVolume(self):\n",
      "        \"\"\"\n",
      "        Method to retrieve the volume field of a Book instance\n",
      "        \"\"\"\n",
      "        return self.volume\n",
      "        \n",
      "    def setSeries(self, series):\n",
      "        \"\"\"\n",
      "        Method to set the series field of a Book instance\n",
      "        \"\"\"\n",
      "        self.series = series\n",
      "        return   \n",
      "    \n",
      "    def getSeries(self):\n",
      "        \"\"\"\n",
      "        Method to retrieve the series field of a Book instance\n",
      "        \"\"\"\n",
      "        return self.series\n",
      "            \n",
      "    def setPages(self, pages):\n",
      "        \"\"\"\n",
      "        Method to set the pages field of a Book instance\n",
      "        \"\"\"\n",
      "        self.pages = pages\n",
      "        return  \n",
      "    \n",
      "    def getPages(self):\n",
      "        \"\"\"\n",
      "        Method to retrieve the pages field of a Book instance\n",
      "        \"\"\"\n",
      "        return self.pages\n",
      "    \n",
      "    def setAddress(self, address):\n",
      "        \"\"\"\n",
      "        Method to set the address field of a Book instance\n",
      "        \"\"\"\n",
      "        self.address = address\n",
      "        return     \n",
      "        \n",
      "    def getAddress(self):\n",
      "        \"\"\"\n",
      "        Method to retrieve the address field of a Book instance\n",
      "        \"\"\"\n",
      "        return self.address    \n",
      "     \n",
      "    def setEdition(self, edition):\n",
      "        \"\"\"\n",
      "        Method to set the edition field of a Book instance\n",
      "        \"\"\"\n",
      "        self.edition = edition\n",
      "        return  \n",
      "        \n",
      "    def getEdition(self):\n",
      "        \"\"\"\n",
      "        Method to retrieve the edition field of a Book instance\n",
      "        \"\"\"\n",
      "        return self.edition\n",
      "\n",
      "    def setISBN13(self, isbn13):\n",
      "        \"\"\"\n",
      "        Method to set the isbn13 field of a Book instance\n",
      "        \"\"\"\n",
      "        self.isbn13 = isbn13\n",
      "        return     \n",
      "    \n",
      "    def getISBN13(self):\n",
      "        \"\"\"\n",
      "        Method to get the isbn13 field of a Book instance\n",
      "        \"\"\"\n",
      "        return self.isbn13         \n",
      "           \n",
      "    def __str__(self):\n",
      "        \"\"\"\n",
      "        Implementation of the magic method string\n",
      "        \n",
      "        Return: str: Class instance as a string\n",
      "        \"\"\"\n",
      "        str=\" author      :\\n\" \n",
      "        for item in self.author:\n",
      "            str +=  \"              '\" + item + \"'\\n\" \n",
      "        \n",
      "        str += \" title       :'\" + self.title +  \"'\\n\" \n",
      "        str += \" publisher   :'\" + self.publisher + \"'\\n\" \n",
      "        str += \" year        :'\" + self.year + \"'\\n\"\n",
      "        if len(self.volume) !=0:\n",
      "            str += \" volume      :'\" + self.volume + \"'\\n\" \n",
      "        if len(self.series) !=0:\n",
      "            str += \" series      :'\" + self.series + \"'\\n\"\n",
      "        if len(self.address) !=0:\n",
      "            str += \" address     :'\" + self.address + \"'\\n\"\n",
      "        if len(self.edition) !=0:\n",
      "            str += \" edition     :'\" + self.edition + \"'\\n\"\n",
      "        if len(self.pages) !=0:\n",
      "            str += \" pages       :'\" + self.pages + \"'\\n\"\n",
      "        if len(self.isbn13) !=0:\n",
      "            str += \" isbn13      :'\" + self.isbn13 + \"'\\n\"    \n",
      "        if len(self.status) != 0:\n",
      "            str += \" status      :'\" + self.status+ \"'\\n\"\n",
      "        if len(self.date) != 0:\n",
      "            str += \" purchased on:'\" + self.date + \"'\\n\"\n",
      "        return str\n",
      "        \n",
      "if __name__ == \"__main__\" :\n",
      "    # Book #1\n",
      "    b1=Book(author=\"Paul A.M. Dirac\",\n",
      "            title=\"The Principles of Quantum Mechanics\",\n",
      "            date=\"n.a.\",\n",
      "            status=\"n.a.\", \n",
      "            publisher=\"Oxford University Press\",\n",
      "            year=\"1982\",\n",
      "            edition=\"4\",\n",
      "            series=\"International Series of Monographs on Physics\",\n",
      "            volume=\"27\",\n",
      "            pages=\"314\",\n",
      "            isbn13=\"978-0198520115\")\n",
      "    print(b1)  \n",
      "\n",
      "    # Book #2\n",
      "    b2=Book(author=['Lev D. Landau','Evgenii M. Lifshitz'],\n",
      "            title='The Classical Theory of Fields',\n",
      "            publisher='Butterworth-Heinemann',\n",
      "            year='1975',\n",
      "            volume='2',\n",
      "            series='Course of Theoretical Physics',\n",
      "            edition='4',\n",
      "            isbn13='978-0750627689',\n",
      "            pages='402',\n",
      "            status='on shelf')      \n",
      "    print(b2)\n",
      "    # Change the author    \n",
      "    b2.setAuthor(['L.D. Landau','E.M. Lifshitz'])\n",
      "    print(b2)"
     ],
     "language": "python",
     "metadata": {},
     "outputs": [
      {
       "output_type": "stream",
       "stream": "stdout",
       "text": [
        " author      :\n",
        "              'Paul A.M. Dirac'\n",
        " title       :'The Principles of Quantum Mechanics'\n",
        " publisher   :'Oxford University Press'\n",
        " year        :'1982'\n",
        " volume      :'27'\n",
        " series      :'International Series of Monographs on Physics'\n",
        " edition     :'4'\n",
        " pages       :'314'\n",
        " isbn13      :'978-0198520115'\n",
        " status      :'n.a.'\n",
        " purchased on:'n.a.'\n",
        "\n",
        " author      :\n",
        "              'Lev D. Landau'\n",
        "              'Evgenii M. Lifshitz'\n",
        " title       :'The Classical Theory of Fields'\n",
        " publisher   :'Butterworth-Heinemann'\n",
        " year        :'1975'\n",
        " volume      :'2'\n",
        " series      :'Course of Theoretical Physics'\n",
        " edition     :'4'\n",
        " pages       :'402'\n",
        " isbn13      :'978-0750627689'\n",
        " status      :'on shelf'\n",
        "\n",
        " author      :\n",
        "              'L.D. Landau'\n",
        "              'E.M. Lifshitz'\n",
        " title       :'The Classical Theory of Fields'\n",
        " publisher   :'Butterworth-Heinemann'\n",
        " year        :'1975'\n",
        " volume      :'2'\n",
        " series      :'Course of Theoretical Physics'\n",
        " edition     :'4'\n",
        " pages       :'402'\n",
        " isbn13      :'978-0750627689'\n",
        " status      :'on shelf'\n",
        "\n"
       ]
      }
     ],
     "prompt_number": 8
    },
    {
     "cell_type": "heading",
     "level": 3,
     "metadata": {},
     "source": [
      "Exercise 2"
     ]
    },
    {
     "cell_type": "markdown",
     "metadata": {},
     "source": [
      "Write a class Point which allows you to represent points in a $3D$ Euclidean space:<br>\n",
      "This class must contain:\n",
      "* at least one constructor & a destructor\n",
      "* a counter which keeps track of the number of points that are in existence<br>\n",
      "  i.e. created but not deleted yet.\n",
      "* getters and setters for each dimension (x,y,z)\n",
      "* a method which translates a point in space $(\\Delta x,\\Delta y,\\Delta z)$\n",
      "* a method which rotates a point around an axis over an angle ($\\xi$).<br>\n",
      "  The rotation axis can be thought of as the line which connects<br>\n",
      "  the origin of the coordinate system with <br>\n",
      "  * either a point $a (x_a,y_a,z_a)$ in space, <br> \n",
      "  * or a point $a (\\theta_a,\\varphi_a)$ on the unit sphere <br>\n",
      "* a method which calculates the distance between two points\n",
      "* a magic method __str__ which converts a point instance into a string\n",
      "* a magic method __abs__ which calculates the distance between a point instance and the origin \n",
      "* a magic method __neg__ which reflects a point instance through the origin \n",
      "* the magic functions: __eq__, __lt__,__gt__, __add__ <br>\n",
      "  Let a, b be instances of the class Point, then:<br>\n",
      "  * a>b iff a's distance from the origin is larger then b's.<br>\n",
      "    Mutatis mutandis for a<b.\n",
      "  * a==b iff both points have the same coordinates ($\\epsilon<1.0^{-10}$)\n",
      "  * a + b implies adding the coordinate values for each dimension<br>\n",
      "<br>\n",
      "<font color=\"red\">\n",
      "Please use <b>doc strings</b> for the class and its methods<br>\n",
      "Implement <b>simple testing</b> within the module\n",
      "</font>"
     ]
    },
    {
     "cell_type": "code",
     "collapsed": false,
     "input": [],
     "language": "python",
     "metadata": {},
     "outputs": []
    }
   ],
   "metadata": {}
  }
 ]
}